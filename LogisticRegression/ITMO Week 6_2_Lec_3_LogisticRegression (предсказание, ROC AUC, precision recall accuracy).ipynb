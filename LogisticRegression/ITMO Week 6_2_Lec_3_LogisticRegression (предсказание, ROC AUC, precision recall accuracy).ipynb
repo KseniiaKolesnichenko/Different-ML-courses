{
 "cells": [
  {
   "cell_type": "markdown",
   "id": "6e969bbb",
   "metadata": {},
   "source": [
    "В прилагаемом файле представлены данные, собранные путем голосования за самые лучшие (или, по крайней мере, самые популярные) конфеты Хэллоуина. Обучите модель логистической регрессии. В качестве предикторов выступают поля: chocolate, fruity, caramel, peanutyalmondy, nougat, crispedricewafer, hard, bar, pluribus, sugarpercent, pricepercent, отклик — Y.\n",
    "\n"
   ]
  },
  {
   "cell_type": "code",
   "execution_count": 1,
   "id": "af5e8beb",
   "metadata": {},
   "outputs": [],
   "source": [
    "import pandas as pd\n",
    "\n",
    "from sklearn.linear_model import LogisticRegression\n",
    "from sklearn import metrics\n",
    "\n",
    "import matplotlib.pyplot as plt\n",
    "%matplotlib inline"
   ]
  },
  {
   "cell_type": "code",
   "execution_count": 2,
   "id": "f8e65ab5",
   "metadata": {},
   "outputs": [],
   "source": [
    "#чтение данных, так как названия конфет уникальны, используем их в качестве индекса\n",
    "#import pandas as pd\n",
    "DATA = pd.read_csv(\"candy-data.csv\", delimiter=',', index_col='competitorname')\n",
    "test= pd.read_csv(\"candy-test.csv\", delimiter=',', index_col='competitorname')\n",
    "y_test=test[\"Y\"]\n",
    "X_test=test.drop('Y', axis=1)"
   ]
  },
  {
   "cell_type": "code",
   "execution_count": 3,
   "id": "2e32933c",
   "metadata": {},
   "outputs": [
    {
     "data": {
      "text/plain": [
       "(15, 12)"
      ]
     },
     "execution_count": 3,
     "metadata": {},
     "output_type": "execute_result"
    }
   ],
   "source": [
    "\n",
    "test.shape"
   ]
  },
  {
   "cell_type": "code",
   "execution_count": 4,
   "id": "7c325697",
   "metadata": {},
   "outputs": [
    {
     "data": {
      "text/html": [
       "<div>\n",
       "<style scoped>\n",
       "    .dataframe tbody tr th:only-of-type {\n",
       "        vertical-align: middle;\n",
       "    }\n",
       "\n",
       "    .dataframe tbody tr th {\n",
       "        vertical-align: top;\n",
       "    }\n",
       "\n",
       "    .dataframe thead th {\n",
       "        text-align: right;\n",
       "    }\n",
       "</style>\n",
       "<table border=\"1\" class=\"dataframe\">\n",
       "  <thead>\n",
       "    <tr style=\"text-align: right;\">\n",
       "      <th></th>\n",
       "      <th>chocolate</th>\n",
       "      <th>fruity</th>\n",
       "      <th>caramel</th>\n",
       "      <th>peanutyalmondy</th>\n",
       "      <th>nougat</th>\n",
       "      <th>crispedricewafer</th>\n",
       "      <th>hard</th>\n",
       "      <th>bar</th>\n",
       "      <th>pluribus</th>\n",
       "      <th>sugarpercent</th>\n",
       "      <th>pricepercent</th>\n",
       "      <th>winpercent</th>\n",
       "      <th>Y</th>\n",
       "    </tr>\n",
       "    <tr>\n",
       "      <th>competitorname</th>\n",
       "      <th></th>\n",
       "      <th></th>\n",
       "      <th></th>\n",
       "      <th></th>\n",
       "      <th></th>\n",
       "      <th></th>\n",
       "      <th></th>\n",
       "      <th></th>\n",
       "      <th></th>\n",
       "      <th></th>\n",
       "      <th></th>\n",
       "      <th></th>\n",
       "      <th></th>\n",
       "    </tr>\n",
       "  </thead>\n",
       "  <tbody>\n",
       "    <tr>\n",
       "      <th>100 Grand</th>\n",
       "      <td>1</td>\n",
       "      <td>0</td>\n",
       "      <td>1</td>\n",
       "      <td>0</td>\n",
       "      <td>0</td>\n",
       "      <td>1</td>\n",
       "      <td>0</td>\n",
       "      <td>1</td>\n",
       "      <td>0</td>\n",
       "      <td>0.732</td>\n",
       "      <td>0.860</td>\n",
       "      <td>66.971725</td>\n",
       "      <td>1</td>\n",
       "    </tr>\n",
       "    <tr>\n",
       "      <th>3 Musketeers</th>\n",
       "      <td>1</td>\n",
       "      <td>0</td>\n",
       "      <td>0</td>\n",
       "      <td>0</td>\n",
       "      <td>1</td>\n",
       "      <td>0</td>\n",
       "      <td>0</td>\n",
       "      <td>1</td>\n",
       "      <td>0</td>\n",
       "      <td>0.604</td>\n",
       "      <td>0.511</td>\n",
       "      <td>67.602936</td>\n",
       "      <td>1</td>\n",
       "    </tr>\n",
       "    <tr>\n",
       "      <th>One dime</th>\n",
       "      <td>0</td>\n",
       "      <td>0</td>\n",
       "      <td>0</td>\n",
       "      <td>0</td>\n",
       "      <td>0</td>\n",
       "      <td>0</td>\n",
       "      <td>0</td>\n",
       "      <td>0</td>\n",
       "      <td>0</td>\n",
       "      <td>0.011</td>\n",
       "      <td>0.116</td>\n",
       "      <td>32.261086</td>\n",
       "      <td>0</td>\n",
       "    </tr>\n",
       "    <tr>\n",
       "      <th>One quarter</th>\n",
       "      <td>0</td>\n",
       "      <td>0</td>\n",
       "      <td>0</td>\n",
       "      <td>0</td>\n",
       "      <td>0</td>\n",
       "      <td>0</td>\n",
       "      <td>0</td>\n",
       "      <td>0</td>\n",
       "      <td>0</td>\n",
       "      <td>0.011</td>\n",
       "      <td>0.511</td>\n",
       "      <td>46.116505</td>\n",
       "      <td>0</td>\n",
       "    </tr>\n",
       "    <tr>\n",
       "      <th>Air Heads</th>\n",
       "      <td>0</td>\n",
       "      <td>1</td>\n",
       "      <td>0</td>\n",
       "      <td>0</td>\n",
       "      <td>0</td>\n",
       "      <td>0</td>\n",
       "      <td>0</td>\n",
       "      <td>0</td>\n",
       "      <td>0</td>\n",
       "      <td>0.906</td>\n",
       "      <td>0.511</td>\n",
       "      <td>52.341465</td>\n",
       "      <td>1</td>\n",
       "    </tr>\n",
       "  </tbody>\n",
       "</table>\n",
       "</div>"
      ],
      "text/plain": [
       "                chocolate  fruity  caramel  peanutyalmondy  nougat  \\\n",
       "competitorname                                                       \n",
       "100 Grand               1       0        1               0       0   \n",
       "3 Musketeers            1       0        0               0       1   \n",
       "One dime                0       0        0               0       0   \n",
       "One quarter             0       0        0               0       0   \n",
       "Air Heads               0       1        0               0       0   \n",
       "\n",
       "                crispedricewafer  hard  bar  pluribus  sugarpercent  \\\n",
       "competitorname                                                        \n",
       "100 Grand                      1     0    1         0         0.732   \n",
       "3 Musketeers                   0     0    1         0         0.604   \n",
       "One dime                       0     0    0         0         0.011   \n",
       "One quarter                    0     0    0         0         0.011   \n",
       "Air Heads                      0     0    0         0         0.906   \n",
       "\n",
       "                pricepercent  winpercent  Y  \n",
       "competitorname                               \n",
       "100 Grand              0.860   66.971725  1  \n",
       "3 Musketeers           0.511   67.602936  1  \n",
       "One dime               0.116   32.261086  0  \n",
       "One quarter            0.511   46.116505  0  \n",
       "Air Heads              0.511   52.341465  1  "
      ]
     },
     "execution_count": 4,
     "metadata": {},
     "output_type": "execute_result"
    }
   ],
   "source": [
    "\n",
    "DATA.head()"
   ]
  },
  {
   "cell_type": "code",
   "execution_count": 5,
   "id": "e7c2498f",
   "metadata": {},
   "outputs": [
    {
     "data": {
      "text/plain": [
       "Index(['chocolate', 'fruity', 'caramel', 'peanutyalmondy', 'nougat',\n",
       "       'crispedricewafer', 'hard', 'bar', 'pluribus', 'sugarpercent',\n",
       "       'pricepercent', 'winpercent', 'Y'],\n",
       "      dtype='object')"
      ]
     },
     "metadata": {},
     "output_type": "display_data"
    },
    {
     "data": {
      "text/html": [
       "<div>\n",
       "<style scoped>\n",
       "    .dataframe tbody tr th:only-of-type {\n",
       "        vertical-align: middle;\n",
       "    }\n",
       "\n",
       "    .dataframe tbody tr th {\n",
       "        vertical-align: top;\n",
       "    }\n",
       "\n",
       "    .dataframe thead th {\n",
       "        text-align: right;\n",
       "    }\n",
       "</style>\n",
       "<table border=\"1\" class=\"dataframe\">\n",
       "  <thead>\n",
       "    <tr style=\"text-align: right;\">\n",
       "      <th></th>\n",
       "      <th>chocolate</th>\n",
       "      <th>fruity</th>\n",
       "      <th>caramel</th>\n",
       "      <th>peanutyalmondy</th>\n",
       "      <th>nougat</th>\n",
       "      <th>crispedricewafer</th>\n",
       "      <th>hard</th>\n",
       "      <th>bar</th>\n",
       "      <th>pluribus</th>\n",
       "      <th>sugarpercent</th>\n",
       "      <th>pricepercent</th>\n",
       "      <th>winpercent</th>\n",
       "      <th>Y</th>\n",
       "    </tr>\n",
       "    <tr>\n",
       "      <th>competitorname</th>\n",
       "      <th></th>\n",
       "      <th></th>\n",
       "      <th></th>\n",
       "      <th></th>\n",
       "      <th></th>\n",
       "      <th></th>\n",
       "      <th></th>\n",
       "      <th></th>\n",
       "      <th></th>\n",
       "      <th></th>\n",
       "      <th></th>\n",
       "      <th></th>\n",
       "      <th></th>\n",
       "    </tr>\n",
       "  </thead>\n",
       "  <tbody>\n",
       "    <tr>\n",
       "      <th>100 Grand</th>\n",
       "      <td>1</td>\n",
       "      <td>0</td>\n",
       "      <td>1</td>\n",
       "      <td>0</td>\n",
       "      <td>0</td>\n",
       "      <td>1</td>\n",
       "      <td>0</td>\n",
       "      <td>1</td>\n",
       "      <td>0</td>\n",
       "      <td>0.732</td>\n",
       "      <td>0.860</td>\n",
       "      <td>66.971725</td>\n",
       "      <td>1</td>\n",
       "    </tr>\n",
       "    <tr>\n",
       "      <th>3 Musketeers</th>\n",
       "      <td>1</td>\n",
       "      <td>0</td>\n",
       "      <td>0</td>\n",
       "      <td>0</td>\n",
       "      <td>1</td>\n",
       "      <td>0</td>\n",
       "      <td>0</td>\n",
       "      <td>1</td>\n",
       "      <td>0</td>\n",
       "      <td>0.604</td>\n",
       "      <td>0.511</td>\n",
       "      <td>67.602936</td>\n",
       "      <td>1</td>\n",
       "    </tr>\n",
       "    <tr>\n",
       "      <th>One dime</th>\n",
       "      <td>0</td>\n",
       "      <td>0</td>\n",
       "      <td>0</td>\n",
       "      <td>0</td>\n",
       "      <td>0</td>\n",
       "      <td>0</td>\n",
       "      <td>0</td>\n",
       "      <td>0</td>\n",
       "      <td>0</td>\n",
       "      <td>0.011</td>\n",
       "      <td>0.116</td>\n",
       "      <td>32.261086</td>\n",
       "      <td>0</td>\n",
       "    </tr>\n",
       "    <tr>\n",
       "      <th>One quarter</th>\n",
       "      <td>0</td>\n",
       "      <td>0</td>\n",
       "      <td>0</td>\n",
       "      <td>0</td>\n",
       "      <td>0</td>\n",
       "      <td>0</td>\n",
       "      <td>0</td>\n",
       "      <td>0</td>\n",
       "      <td>0</td>\n",
       "      <td>0.011</td>\n",
       "      <td>0.511</td>\n",
       "      <td>46.116505</td>\n",
       "      <td>0</td>\n",
       "    </tr>\n",
       "    <tr>\n",
       "      <th>Air Heads</th>\n",
       "      <td>0</td>\n",
       "      <td>1</td>\n",
       "      <td>0</td>\n",
       "      <td>0</td>\n",
       "      <td>0</td>\n",
       "      <td>0</td>\n",
       "      <td>0</td>\n",
       "      <td>0</td>\n",
       "      <td>0</td>\n",
       "      <td>0.906</td>\n",
       "      <td>0.511</td>\n",
       "      <td>52.341465</td>\n",
       "      <td>1</td>\n",
       "    </tr>\n",
       "  </tbody>\n",
       "</table>\n",
       "</div>"
      ],
      "text/plain": [
       "                chocolate  fruity  caramel  peanutyalmondy  nougat  \\\n",
       "competitorname                                                       \n",
       "100 Grand               1       0        1               0       0   \n",
       "3 Musketeers            1       0        0               0       1   \n",
       "One dime                0       0        0               0       0   \n",
       "One quarter             0       0        0               0       0   \n",
       "Air Heads               0       1        0               0       0   \n",
       "\n",
       "                crispedricewafer  hard  bar  pluribus  sugarpercent  \\\n",
       "competitorname                                                        \n",
       "100 Grand                      1     0    1         0         0.732   \n",
       "3 Musketeers                   0     0    1         0         0.604   \n",
       "One dime                       0     0    0         0         0.011   \n",
       "One quarter                    0     0    0         0         0.011   \n",
       "Air Heads                      0     0    0         0         0.906   \n",
       "\n",
       "                pricepercent  winpercent  Y  \n",
       "competitorname                               \n",
       "100 Grand              0.860   66.971725  1  \n",
       "3 Musketeers           0.511   67.602936  1  \n",
       "One dime               0.116   32.261086  0  \n",
       "One quarter            0.511   46.116505  0  \n",
       "Air Heads              0.511   52.341465  1  "
      ]
     },
     "metadata": {},
     "output_type": "display_data"
    },
    {
     "data": {
      "text/plain": [
       "(70, 13)"
      ]
     },
     "metadata": {},
     "output_type": "display_data"
    }
   ],
   "source": [
    "display(DATA.columns)\n",
    "display(DATA.head())\n",
    "display(DATA.shape)"
   ]
  },
  {
   "cell_type": "markdown",
   "id": "9a4c6a29",
   "metadata": {},
   "source": [
    "В качестве тренировочного набора данных используйте данные из файла, за иключением следующих конфет: Chewey Lemonhead Fruit Mix, Runts, Sixlets. Обучите модель.\n",
    "\n"
   ]
  },
  {
   "cell_type": "code",
   "execution_count": 6,
   "id": "c0e80397",
   "metadata": {},
   "outputs": [
    {
     "data": {
      "text/plain": [
       "Index(['100 Grand', '3 Musketeers', 'One dime', 'One quarter', 'Air Heads',\n",
       "       'Almond Joy', 'Baby Ruth', 'Boston Baked Beans', 'Candy Corn',\n",
       "       'Caramel Apple Pops', 'Charleston Chew', 'Chewey Lemonhead Fruit Mix',\n",
       "       'Chiclets', 'Dots', 'Dum Dums', 'Fruit Chews', 'Fun Dip', 'Gobstopper',\n",
       "       'Haribo Gold Bears', 'Haribo Happy Cola', 'Haribo Sour Bears',\n",
       "       'Haribo Twin Snakes', 'Hersheys Kisses', 'Hersheys Krackel',\n",
       "       'Hersheys Milk Chocolate', 'Hersheys Special Dark', 'Jawbusters',\n",
       "       'Junior Mints', 'Kit Kat', 'Laffy Taffy', 'Lemonhead',\n",
       "       'Lifesavers big ring gummies', 'Peanut butter M&Ms', 'M&Ms',\n",
       "       'Mike & Ike', 'Milk Duds', 'Milky Way', 'Milky Way Midnight',\n",
       "       'Milky Way Simply Caramel', 'Mounds', 'Mr Good Bar', 'Nerds',\n",
       "       'Nestle Butterfinger', 'Nestle Crunch', 'Nik L Nip', 'Now & Later',\n",
       "       'Payday', 'Peanut M&Ms', 'Pixie Sticks', 'Pop Rocks', 'Red vines',\n",
       "       'Reeses Miniatures', 'Reeses Peanut Butter cup', 'Reeses pieces',\n",
       "       'Reeses stuffed with pieces', 'Ring pop', 'Rolo', 'Root Beer Barrels',\n",
       "       'Runts', 'Sixlets', 'Skittles original', 'Skittles wildberry',\n",
       "       'Nestle Smarties', 'Smarties candy', 'Snickers', 'Snickers Crisper',\n",
       "       'Sour Patch Kids', 'Sour Patch Tricksters', 'Starburst',\n",
       "       'Strawberry bon bons'],\n",
       "      dtype='object', name='competitorname')"
      ]
     },
     "execution_count": 6,
     "metadata": {},
     "output_type": "execute_result"
    }
   ],
   "source": [
    "DATA.index.unique()"
   ]
  },
  {
   "cell_type": "code",
   "execution_count": 7,
   "id": "d71d4d1d",
   "metadata": {},
   "outputs": [
    {
     "data": {
      "text/plain": [
       "Index(['100 Grand', '3 Musketeers', 'One dime', 'One quarter', 'Air Heads',\n",
       "       'Almond Joy', 'Baby Ruth', 'Boston Baked Beans', 'Candy Corn',\n",
       "       'Caramel Apple Pops', 'Charleston Chew', 'Chiclets', 'Dots', 'Dum Dums',\n",
       "       'Fruit Chews', 'Fun Dip', 'Gobstopper', 'Haribo Gold Bears',\n",
       "       'Haribo Happy Cola', 'Haribo Sour Bears', 'Haribo Twin Snakes',\n",
       "       'Hersheys Kisses', 'Hersheys Krackel', 'Hersheys Milk Chocolate',\n",
       "       'Hersheys Special Dark', 'Jawbusters', 'Junior Mints', 'Kit Kat',\n",
       "       'Laffy Taffy', 'Lemonhead', 'Lifesavers big ring gummies',\n",
       "       'Peanut butter M&Ms', 'M&Ms', 'Mike & Ike', 'Milk Duds', 'Milky Way',\n",
       "       'Milky Way Midnight', 'Milky Way Simply Caramel', 'Mounds',\n",
       "       'Mr Good Bar', 'Nerds', 'Nestle Butterfinger', 'Nestle Crunch',\n",
       "       'Nik L Nip', 'Now & Later', 'Payday', 'Peanut M&Ms', 'Pixie Sticks',\n",
       "       'Pop Rocks', 'Red vines', 'Reeses Miniatures',\n",
       "       'Reeses Peanut Butter cup', 'Reeses pieces',\n",
       "       'Reeses stuffed with pieces', 'Ring pop', 'Rolo', 'Root Beer Barrels',\n",
       "       'Skittles original', 'Skittles wildberry', 'Nestle Smarties',\n",
       "       'Smarties candy', 'Snickers', 'Snickers Crisper', 'Sour Patch Kids',\n",
       "       'Sour Patch Tricksters', 'Starburst', 'Strawberry bon bons'],\n",
       "      dtype='object', name='competitorname')"
      ]
     },
     "execution_count": 7,
     "metadata": {},
     "output_type": "execute_result"
    }
   ],
   "source": [
    "mask=((DATA.index!= 'Chewey Lemonhead Fruit Mix' ) & (DATA.index!= 'Runts' ) &(DATA.index!= 'Sixlets' )) \n",
    "DATA=DATA[mask]\n",
    "DATA.index.unique()"
   ]
  },
  {
   "cell_type": "code",
   "execution_count": 8,
   "id": "6d6aa84c",
   "metadata": {},
   "outputs": [],
   "source": [
    "#обучение модели будем проводить на данных, за исключением некоторых конфет\n",
    "train_data = DATA\n",
    "X = pd.DataFrame(train_data.drop(['winpercent','Y'], axis=1))\n",
    "\n",
    "#отбор столбца для отклика\n",
    "y = pd.DataFrame(train_data['Y'])"
   ]
  },
  {
   "cell_type": "markdown",
   "id": "d0b2891e",
   "metadata": {},
   "source": [
    "Обучение модели логистической регрессии"
   ]
  },
  {
   "cell_type": "markdown",
   "id": "86516988",
   "metadata": {},
   "source": [
    "Если используете Python, используйте модель с параметрами: LogisticRegression(random_state=2019, solver='lbfgs').\n",
    "Обучите модель и выполните предсказание для всех конфет из прилагаемого файла (candy-test.csv) тестовых данных.\n",
    "\n",
    "Введите вероятность отнесения конфеты Tootsie Roll Juniors к классу 1:\n"
   ]
  },
  {
   "cell_type": "code",
   "execution_count": 9,
   "id": "0c18757f",
   "metadata": {},
   "outputs": [],
   "source": [
    "#подключение модели логистической регрессии из библиотеки sklearn\n",
    "#from sklearn.linear_model import LogisticRegression"
   ]
  },
  {
   "cell_type": "code",
   "execution_count": 10,
   "id": "e581e6ce",
   "metadata": {},
   "outputs": [],
   "source": [
    "#обучение модели\n",
    "reg = LogisticRegression(random_state=2019, solver='lbfgs').fit(X, y.values.ravel())"
   ]
  },
  {
   "cell_type": "markdown",
   "id": "22a9fb7c",
   "metadata": {},
   "source": [
    "Предсказание результатов с помощью обученной модели"
   ]
  },
  {
   "cell_type": "code",
   "execution_count": 11,
   "id": "7526e77b",
   "metadata": {},
   "outputs": [
    {
     "data": {
      "text/plain": [
       "array([[0.7139617 , 0.2860383 ],\n",
       "       [0.59994557, 0.40005443],\n",
       "       [0.65127668, 0.34872332],\n",
       "       [0.59820116, 0.40179884],\n",
       "       [0.21972227, 0.78027773],\n",
       "       [0.28300469, 0.71699531],\n",
       "       [0.25917458, 0.74082542],\n",
       "       [0.19733419, 0.80266581],\n",
       "       [0.61463447, 0.38536553],\n",
       "       [0.60741035, 0.39258965],\n",
       "       [0.64305556, 0.35694444],\n",
       "       [0.8504666 , 0.1495334 ],\n",
       "       [0.61770122, 0.38229878],\n",
       "       [0.40990595, 0.59009405],\n",
       "       [0.21476576, 0.78523424]])"
      ]
     },
     "execution_count": 11,
     "metadata": {},
     "output_type": "execute_result"
    }
   ],
   "source": [
    "#предсказание для сладости, введенной вручную, вероятности указаны для классов 0 и 1 соответственно \n",
    "y_pred_proba=reg.predict_proba(X_test)\n",
    "y_pred_proba"
   ]
  },
  {
   "cell_type": "markdown",
   "id": "f13b512b",
   "metadata": {},
   "source": [
    "Введите вероятность отнесения конфеты Tootsie Roll Juniors к классу 1:"
   ]
  },
  {
   "cell_type": "code",
   "execution_count": 12,
   "id": "f9e1aad7",
   "metadata": {},
   "outputs": [
    {
     "data": {
      "text/plain": [
       "array([[0.28300469, 0.71699531]])"
      ]
     },
     "execution_count": 12,
     "metadata": {},
     "output_type": "execute_result"
    }
   ],
   "source": [
    "Tootsie_Roll_Juniors = X_test.loc['Tootsie Roll Juniors',:].to_frame().T\n",
    "Tootsie_Roll_Juniors_proba=reg.predict_proba(Tootsie_Roll_Juniors)\n",
    "Tootsie_Roll_Juniors_proba"
   ]
  },
  {
   "cell_type": "markdown",
   "id": "7b2991ba",
   "metadata": {},
   "source": [
    "Введите вероятность отнесения конфеты Tootsie Roll Midgies к классу 1:\n"
   ]
  },
  {
   "cell_type": "code",
   "execution_count": 13,
   "id": "290324a7",
   "metadata": {},
   "outputs": [
    {
     "data": {
      "text/plain": [
       "array([[0.25917458, 0.74082542]])"
      ]
     },
     "execution_count": 13,
     "metadata": {},
     "output_type": "execute_result"
    }
   ],
   "source": [
    "Tootsie_Roll_Midgies = X_test.loc['Tootsie Roll Midgies',:].to_frame().T\n",
    "Tootsie_Roll_Midgies_proba=reg.predict_proba(Tootsie_Roll_Midgies)\n",
    "Tootsie_Roll_Midgies_proba"
   ]
  },
  {
   "cell_type": "code",
   "execution_count": 14,
   "id": "ddfd5212",
   "metadata": {},
   "outputs": [
    {
     "data": {
      "text/plain": [
       "array([1], dtype=int64)"
      ]
     },
     "execution_count": 14,
     "metadata": {},
     "output_type": "execute_result"
    }
   ],
   "source": [
    "reg.predict(Tootsie_Roll_Juniors)"
   ]
  },
  {
   "cell_type": "markdown",
   "id": "a0b576b3",
   "metadata": {},
   "source": [
    "Выполните оценку модели с помощью матрицы ошибок и рассчитайте следующие параметры при пороге отсечения (Treshhold)=0.5.\n",
    "\n"
   ]
  },
  {
   "cell_type": "code",
   "execution_count": 15,
   "id": "b99523f1",
   "metadata": {},
   "outputs": [
    {
     "data": {
      "text/plain": [
       "array([0, 0, 0, 0, 1, 1, 1, 1, 0, 0, 0, 0, 0, 1, 1], dtype=int64)"
      ]
     },
     "execution_count": 15,
     "metadata": {},
     "output_type": "execute_result"
    }
   ],
   "source": [
    "#предсказание с помощью обученной модели, порог отсечения по умолчанию составляет 0.5\n",
    "Y_pred = reg.predict(X_test)\n",
    "Y_pred"
   ]
  },
  {
   "cell_type": "code",
   "execution_count": 16,
   "id": "01682031",
   "metadata": {},
   "outputs": [
    {
     "data": {
      "text/plain": [
       "array([[0.7139617 , 0.2860383 ],\n",
       "       [0.59994557, 0.40005443],\n",
       "       [0.65127668, 0.34872332],\n",
       "       [0.59820116, 0.40179884],\n",
       "       [0.21972227, 0.78027773],\n",
       "       [0.28300469, 0.71699531],\n",
       "       [0.25917458, 0.74082542],\n",
       "       [0.19733419, 0.80266581],\n",
       "       [0.61463447, 0.38536553],\n",
       "       [0.60741035, 0.39258965],\n",
       "       [0.64305556, 0.35694444],\n",
       "       [0.8504666 , 0.1495334 ],\n",
       "       [0.61770122, 0.38229878],\n",
       "       [0.40990595, 0.59009405],\n",
       "       [0.21476576, 0.78523424]])"
      ]
     },
     "execution_count": 16,
     "metadata": {},
     "output_type": "execute_result"
    }
   ],
   "source": [
    "#вероятности отнесения к 0 и 1 классу объектов тестовых данных соответствнно\n",
    "Y_pred_probs = reg.predict_proba(X_test)\n",
    "Y_pred_probs"
   ]
  },
  {
   "cell_type": "code",
   "execution_count": 17,
   "id": "1be84aa1",
   "metadata": {},
   "outputs": [
    {
     "data": {
      "text/plain": [
       "array([0.2860383 , 0.40005443, 0.34872332, 0.40179884, 0.78027773,\n",
       "       0.71699531, 0.74082542, 0.80266581, 0.38536553, 0.39258965,\n",
       "       0.35694444, 0.1495334 , 0.38229878, 0.59009405, 0.78523424])"
      ]
     },
     "execution_count": 17,
     "metadata": {},
     "output_type": "execute_result"
    }
   ],
   "source": [
    "#отбор вероятностей отнесения объектов к классу 1\n",
    "Y_pred_probs_class_1 = Y_pred_probs[:, 1]\n",
    "Y_pred_probs_class_1"
   ]
  },
  {
   "cell_type": "code",
   "execution_count": 18,
   "id": "aca5818c",
   "metadata": {},
   "outputs": [
    {
     "data": {
      "text/plain": [
       "array([0, 0, 0, 1, 1, 0, 0, 1, 0, 1, 0, 0, 0, 0, 1], dtype=int64)"
      ]
     },
     "execution_count": 18,
     "metadata": {},
     "output_type": "execute_result"
    }
   ],
   "source": [
    "#отбор отклика Y из тестовых данных и преобразование в массив\n",
    "Y_true = (test['Y'].to_frame().T).values.ravel()\n",
    "Y_true"
   ]
  },
  {
   "cell_type": "code",
   "execution_count": 19,
   "id": "6ce9ff3e",
   "metadata": {},
   "outputs": [],
   "source": [
    "#подключение библиотеки для вычисления метрик\n",
    "#from sklearn import metrics"
   ]
  },
  {
   "cell_type": "code",
   "execution_count": 20,
   "id": "40315cf5",
   "metadata": {},
   "outputs": [],
   "source": [
    "fpr, tpr, _ = metrics.roc_curve(Y_true, Y_pred)"
   ]
  },
  {
   "cell_type": "code",
   "execution_count": 21,
   "id": "dd848690",
   "metadata": {},
   "outputs": [
    {
     "data": {
      "text/plain": [
       "0.86"
      ]
     },
     "execution_count": 21,
     "metadata": {},
     "output_type": "execute_result"
    }
   ],
   "source": [
    "#вычисляем AUC\n",
    "metrics.roc_auc_score(Y_true, Y_pred_probs_class_1)"
   ]
  },
  {
   "cell_type": "code",
   "execution_count": 22,
   "id": "285fa8a1",
   "metadata": {},
   "outputs": [
    {
     "data": {
      "text/plain": [
       "0.6"
      ]
     },
     "execution_count": 22,
     "metadata": {},
     "output_type": "execute_result"
    }
   ],
   "source": [
    "#вычисление Recall\n",
    "metrics.recall_score(Y_true, Y_pred)"
   ]
  },
  {
   "cell_type": "code",
   "execution_count": 23,
   "id": "034e5dd4",
   "metadata": {},
   "outputs": [
    {
     "data": {
      "text/plain": [
       "0.5"
      ]
     },
     "execution_count": 23,
     "metadata": {},
     "output_type": "execute_result"
    }
   ],
   "source": [
    "#вычисление Precision\n",
    "metrics.precision_score(Y_true, Y_pred)"
   ]
  },
  {
   "cell_type": "code",
   "execution_count": 24,
   "id": "63805f0f",
   "metadata": {},
   "outputs": [],
   "source": [
    "#подключим библиотеки для визуализации\n",
    "#import matplotlib.pyplot as plt\n",
    "#%matplotlib inline"
   ]
  },
  {
   "cell_type": "code",
   "execution_count": 25,
   "id": "32fa7f5f",
   "metadata": {},
   "outputs": [
    {
     "data": {
      "image/png": "[encoded data removed]",
      "text/plain": [
       "<Figure size 432x288 with 1 Axes>"
      ]
     },
     "metadata": {
      "needs_background": "light"
     },
     "output_type": "display_data"
    }
   ],
   "source": [
    "metrics.plot_roc_curve(reg, X_test, Y_true, color='darkorange') \n",
    "plt.xlim([0.0, 1.0])\n",
    "plt.ylim([0.0, 1.05])\n",
    "plt.xlabel('False Positive Rate')\n",
    "plt.ylabel('True Positive Rate')\n",
    "plt.title('Receiver operating characteristic example')\n",
    "plt.legend(loc=\"lower right\")\n",
    "plt.plot([0, 1], [0, 1], color='navy', lw=2, linestyle='--')\n",
    "plt.show()"
   ]
  }
 ],
 "metadata": {
  "kernelspec": {
   "display_name": "Python 3",
   "language": "python",
   "name": "python3"
  },
  "language_info": {
   "codemirror_mode": {
    "name": "ipython",
    "version": 3
   },
   "file_extension": ".py",
   "mimetype": "text/x-python",
   "name": "python",
   "nbconvert_exporter": "python",
   "pygments_lexer": "ipython3",
   "version": "3.8.10"
  }
 },
 "nbformat": 4,
 "nbformat_minor": 5
}
