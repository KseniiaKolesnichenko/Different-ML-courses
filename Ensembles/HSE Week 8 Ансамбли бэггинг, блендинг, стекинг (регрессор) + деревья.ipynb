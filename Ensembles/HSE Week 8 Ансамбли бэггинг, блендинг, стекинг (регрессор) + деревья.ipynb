{
 "cells": [
  {
   "cell_type": "markdown",
   "metadata": {
    "id": "fj-G-ttXW4C8"
   },
   "source": [
    "# Ансамбль деревьев"
   ]
  },
  {
   "cell_type": "markdown",
   "metadata": {
    "id": "TIcq0tzpXECS"
   },
   "source": [
    "В данном ноутбуке рассмотрим работу бэггинга над решающими деревьями, случайного леса и линейной комбинации разных алгоримов.\n",
    "\n",
    "Для начала загрузим данные и посмотрим на них. "
   ]
  },
  {
   "cell_type": "code",
   "execution_count": 1,
   "metadata": {
    "id": "tI5S68SKXCws"
   },
   "outputs": [],
   "source": [
    "from sklearn import datasets\n",
    "from sklearn.model_selection import train_test_split\n",
    "import numpy as np\n",
    "\n",
    "ds = datasets.load_diabetes()\n"
   ]
  },
  {
   "cell_type": "code",
   "execution_count": 2,
   "metadata": {
    "colab": {
     "base_uri": "https://localhost:8080/",
     "height": 35
    },
    "id": "jLZrFykVdvSf",
    "outputId": "41d6f43f-9774-444b-d07f-2968651c396a"
   },
   "outputs": [
    {
     "data": {
      "text/plain": [
       "['age', 'sex', 'bmi', 'bp', 's1', 's2', 's3', 's4', 's5', 's6']"
      ]
     },
     "execution_count": 2,
     "metadata": {},
     "output_type": "execute_result"
    }
   ],
   "source": [
    "ds.feature_names"
   ]
  },
  {
   "cell_type": "code",
   "execution_count": 3,
   "metadata": {
    "colab": {
     "base_uri": "https://localhost:8080/",
     "height": 694
    },
    "id": "gpHZWQ6TmhzB",
    "outputId": "8517feb5-8634-4975-807f-f9d8d79bd115"
   },
   "outputs": [
    {
     "name": "stdout",
     "output_type": "stream",
     "text": [
      ".. _diabetes_dataset:\n",
      "\n",
      "Diabetes dataset\n",
      "----------------\n",
      "\n",
      "Ten baseline variables, age, sex, body mass index, average blood\n",
      "pressure, and six blood serum measurements were obtained for each of n =\n",
      "442 diabetes patients, as well as the response of interest, a\n",
      "quantitative measure of disease progression one year after baseline.\n",
      "\n",
      "**Data Set Characteristics:**\n",
      "\n",
      "  :Number of Instances: 442\n",
      "\n",
      "  :Number of Attributes: First 10 columns are numeric predictive values\n",
      "\n",
      "  :Target: Column 11 is a quantitative measure of disease progression one year after baseline\n",
      "\n",
      "  :Attribute Information:\n",
      "      - age     age in years\n",
      "      - sex\n",
      "      - bmi     body mass index\n",
      "      - bp      average blood pressure\n",
      "      - s1      tc, total serum cholesterol\n",
      "      - s2      ldl, low-density lipoproteins\n",
      "      - s3      hdl, high-density lipoproteins\n",
      "      - s4      tch, total cholesterol / HDL\n",
      "      - s5      ltg, possibly log of serum triglycerides level\n",
      "      - s6      glu, blood sugar level\n",
      "\n",
      "Note: Each of these 10 feature variables have been mean centered and scaled by the standard deviation times `n_samples` (i.e. the sum of squares of each column totals 1).\n",
      "\n",
      "Source URL:\n",
      "https://www4.stat.ncsu.edu/~boos/var.select/diabetes.html\n",
      "\n",
      "For more information see:\n",
      "Bradley Efron, Trevor Hastie, Iain Johnstone and Robert Tibshirani (2004) \"Least Angle Regression,\" Annals of Statistics (with discussion), 407-499.\n",
      "(https://web.stanford.edu/~hastie/Papers/LARS/LeastAngle_2002.pdf)\n"
     ]
    }
   ],
   "source": [
    "print(ds['DESCR'])"
   ]
  },
  {
   "cell_type": "code",
   "execution_count": 4,
   "metadata": {
    "colab": {
     "base_uri": "https://localhost:8080/",
     "height": 570
    },
    "id": "oY6J58LhX8mo",
    "outputId": "0594791f-38e7-496f-fa82-9fd3bdb8736b"
   },
   "outputs": [
    {
     "name": "stdout",
     "output_type": "stream",
     "text": [
      "[151.  75. 141. 206. 135.  97. 138.  63. 110. 310. 101.  69. 179. 185.\n",
      " 118. 171. 166. 144.  97. 168.  68.  49.  68. 245. 184. 202. 137.  85.\n",
      " 131. 283. 129.  59. 341.  87.  65. 102. 265. 276. 252.  90. 100.  55.\n",
      "  61.  92. 259.  53. 190. 142.  75. 142. 155. 225.  59. 104. 182. 128.\n",
      "  52.  37. 170. 170.  61. 144.  52. 128.  71. 163. 150.  97. 160. 178.\n",
      "  48. 270. 202. 111.  85.  42. 170. 200. 252. 113. 143.  51.  52. 210.\n",
      "  65. 141.  55. 134.  42. 111.  98. 164.  48.  96.  90. 162. 150. 279.\n",
      "  92.  83. 128. 102. 302. 198.  95.  53. 134. 144. 232.  81. 104.  59.\n",
      " 246. 297. 258. 229. 275. 281. 179. 200. 200. 173. 180.  84. 121. 161.\n",
      "  99. 109. 115. 268. 274. 158. 107.  83. 103. 272.  85. 280. 336. 281.\n",
      " 118. 317. 235.  60. 174. 259. 178. 128.  96. 126. 288.  88. 292.  71.\n",
      " 197. 186.  25.  84.  96. 195.  53. 217. 172. 131. 214.  59.  70. 220.\n",
      " 268. 152.  47.  74. 295. 101. 151. 127. 237. 225.  81. 151. 107.  64.\n",
      " 138. 185. 265. 101. 137. 143. 141.  79. 292. 178.  91. 116.  86. 122.\n",
      "  72. 129. 142.  90. 158.  39. 196. 222. 277.  99. 196. 202. 155.  77.\n",
      " 191.  70.  73.  49.  65. 263. 248. 296. 214. 185.  78.  93. 252. 150.\n",
      "  77. 208.  77. 108. 160.  53. 220. 154. 259.  90. 246. 124.  67.  72.\n",
      " 257. 262. 275. 177.  71.  47. 187. 125.  78.  51. 258. 215. 303. 243.\n",
      "  91. 150. 310. 153. 346.  63.  89.  50.  39. 103. 308. 116. 145.  74.\n",
      "  45. 115. 264.  87. 202. 127. 182. 241.  66.  94. 283.  64. 102. 200.\n",
      " 265.  94. 230. 181. 156. 233.  60. 219.  80.  68. 332. 248.  84. 200.\n",
      "  55.  85.  89.  31. 129.  83. 275.  65. 198. 236. 253. 124.  44. 172.\n",
      " 114. 142. 109. 180. 144. 163. 147.  97. 220. 190. 109. 191. 122. 230.\n",
      " 242. 248. 249. 192. 131. 237.  78. 135. 244. 199. 270. 164.  72.  96.\n",
      " 306.  91. 214.  95. 216. 263. 178. 113. 200. 139. 139.  88. 148.  88.\n",
      " 243.  71.  77. 109. 272.  60.  54. 221.  90. 311. 281. 182. 321.  58.\n",
      " 262. 206. 233. 242. 123. 167.  63. 197.  71. 168. 140. 217. 121. 235.\n",
      " 245.  40.  52. 104. 132.  88.  69. 219.  72. 201. 110.  51. 277.  63.\n",
      " 118.  69. 273. 258.  43. 198. 242. 232. 175.  93. 168. 275. 293. 281.\n",
      "  72. 140. 189. 181. 209. 136. 261. 113. 131. 174. 257.  55.  84.  42.\n",
      " 146. 212. 233.  91. 111. 152. 120.  67. 310.  94. 183.  66. 173.  72.\n",
      "  49.  64.  48. 178. 104. 132. 220.  57.]\n"
     ]
    }
   ],
   "source": [
    "print (ds.target)"
   ]
  },
  {
   "cell_type": "markdown",
   "metadata": {
    "id": "i2gNEo1xXbet"
   },
   "source": [
    "Разделим данные на обучающую и тестовую часть."
   ]
  },
  {
   "cell_type": "code",
   "execution_count": 5,
   "metadata": {
    "id": "KjRgI12HmVTD"
   },
   "outputs": [],
   "source": [
    "X = ds.data\n",
    "Y = ds.target\n",
    "X_train, X_test, y_train, y_test = train_test_split(X, Y, train_size=0.5, test_size=0.5)"
   ]
  },
  {
   "cell_type": "markdown",
   "metadata": {
    "id": "iY5zICXQiYlA"
   },
   "source": [
    "### 1. Решающее дерево"
   ]
  },
  {
   "cell_type": "markdown",
   "metadata": {
    "id": "a6kx4EcVT1Iq"
   },
   "source": [
    "Построим одно решающее дерево по обучающей выборке. Будем использовать гиперпараметры по умолчанию. Это значит, что мы никак не будем использовать регуляризацию для дерева (ограничивать глубину и число листьев)."
   ]
  },
  {
   "cell_type": "code",
   "execution_count": 6,
   "metadata": {
    "id": "htvaj1tIdxDb"
   },
   "outputs": [],
   "source": [
    "from sklearn.tree import DecisionTreeRegressor"
   ]
  },
  {
   "cell_type": "code",
   "execution_count": 7,
   "metadata": {
    "id": "VtW3lKSzfqEi"
   },
   "outputs": [],
   "source": [
    "clf = DecisionTreeRegressor()"
   ]
  },
  {
   "cell_type": "code",
   "execution_count": 8,
   "metadata": {
    "colab": {
     "base_uri": "https://localhost:8080/",
     "height": 104
    },
    "id": "YtabXKu8fqm1",
    "outputId": "fce25821-8e93-40f8-8786-1c359f0ceb67"
   },
   "outputs": [
    {
     "data": {
      "text/plain": [
       "DecisionTreeRegressor()"
      ]
     },
     "execution_count": 8,
     "metadata": {},
     "output_type": "execute_result"
    }
   ],
   "source": [
    "clf.fit(X_train, y_train)"
   ]
  },
  {
   "cell_type": "code",
   "execution_count": 9,
   "metadata": {
    "id": "UjHyZuP7fs97"
   },
   "outputs": [],
   "source": [
    "from sklearn.metrics import mean_squared_error"
   ]
  },
  {
   "cell_type": "code",
   "execution_count": 10,
   "metadata": {
    "colab": {
     "base_uri": "https://localhost:8080/",
     "height": 35
    },
    "id": "zSjIAvoTfyAg",
    "outputId": "8f98e36d-d7a9-40d4-a058-157437b72798"
   },
   "outputs": [
    {
     "data": {
      "text/plain": [
       "5622.89592760181"
      ]
     },
     "execution_count": 10,
     "metadata": {},
     "output_type": "execute_result"
    }
   ],
   "source": [
    "mean_squared_error(y_test, clf.predict(X_test))"
   ]
  },
  {
   "cell_type": "code",
   "execution_count": 11,
   "metadata": {
    "colab": {
     "base_uri": "https://localhost:8080/",
     "height": 35
    },
    "id": "_4uNbo1OgKvD",
    "outputId": "bdf388a0-f499-4af0-a3fe-ee90ce43b9b1"
   },
   "outputs": [
    {
     "data": {
      "text/plain": [
       "0.0"
      ]
     },
     "execution_count": 11,
     "metadata": {},
     "output_type": "execute_result"
    }
   ],
   "source": [
    "mean_squared_error(y_train, clf.predict(X_train))"
   ]
  },
  {
   "cell_type": "markdown",
   "metadata": {
    "id": "N_3hYxNPWlrW"
   },
   "source": [
    "MSE на обучающей выборке равно нулю. Построенное дерево переобучилось и не ошиблось ни на одном объекте из обучения."
   ]
  },
  {
   "cell_type": "markdown",
   "metadata": {
    "id": "leRSRn1sjImX"
   },
   "source": [
    "### 2. Бэггинг над решающими деревьями"
   ]
  },
  {
   "cell_type": "code",
   "execution_count": 61,
   "metadata": {
    "id": "yd6-isBag-QZ"
   },
   "outputs": [],
   "source": [
    "res = np.zeros(X_test.shape[0]) #сюда кладём сумму предсказаний всех алгоритмов. Но сначала там вектор из нулей, \n",
    "#размер = число объектов в тестовой части\n",
    "N = 100 #- количество алгоритмов\n",
    "clf = DecisionTreeRegressor()\n",
    "for i in range(N): \n",
    "    ind = np.random.choice(np.arange(X_train.shape[0]),\n",
    "                           size = X_train.shape[0], replace = True)\n",
    "    clf.fit(X_train[ind], y_train[ind])\n",
    "    res += clf.predict(X_test)"
   ]
  },
  {
   "cell_type": "code",
   "execution_count": 62,
   "metadata": {
    "colab": {
     "base_uri": "https://localhost:8080/",
     "height": 35
    },
    "id": "SIA_hgwOhJJc",
    "outputId": "d667ea31-f3db-42eb-82fd-f84a4facc000"
   },
   "outputs": [
    {
     "data": {
      "text/plain": [
       "3313.4770411764707"
      ]
     },
     "execution_count": 62,
     "metadata": {},
     "output_type": "execute_result"
    }
   ],
   "source": [
    "mean_squared_error(y_test, res/N) #качество бэггинга лучше одного решающего дерева."
   ]
  },
  {
   "cell_type": "markdown",
   "metadata": {
    "id": "oI2zB_AedSxT"
   },
   "source": [
    "Как известно из лекций решающее дерево без регуляризации имеет большой разброс и маленькое смещение.\n",
    "Бэггинг уменьшает разброс алгоритма, поэтому ошибка бэггинга меньше, чем ошибка одного решающего дерева."
   ]
  },
  {
   "cell_type": "markdown",
   "metadata": {
    "id": "gDX1lAuhy6zh"
   },
   "source": [
    "Попробуем помимо случайных объектов в подвыборках выбирать и случайные признаки. То есть каждое дерево обучать не на всех признаках, а на случайном подмножестве признаков."
   ]
  },
  {
   "cell_type": "code",
   "execution_count": 57,
   "metadata": {
    "id": "sV4KZchAFSMT"
   },
   "outputs": [],
   "source": [
    "res = np.zeros(X_test.shape[0])\n",
    "N = 100\n",
    "clf = DecisionTreeRegressor()\n",
    "for i in range(N):\n",
    "    ind = np.random.choice(np.arange(X_train.shape[0]), # выбираем индексы объектов\n",
    "                           size = X_train.shape[0], replace = True)\n",
    "    ind_feat = np.random.choice(np.arange(X_train.shape[1]), #Выбираем случайные признаки, без повторений\n",
    "                           size = round(X_train.shape[1]*0.2))\n",
    "    clf.fit(X_train[ind][:, ind_feat], y_train[ind])\n",
    "    res += clf.predict(X_test[:, ind_feat])"
   ]
  },
  {
   "cell_type": "code",
   "execution_count": 58,
   "metadata": {
    "colab": {
     "base_uri": "https://localhost:8080/",
     "height": 35
    },
    "id": "tUIBonjPFurZ",
    "outputId": "a54529cf-e394-47b0-af89-e64a0185ba79"
   },
   "outputs": [
    {
     "data": {
      "text/plain": [
       "4390.505291368247"
      ]
     },
     "execution_count": 58,
     "metadata": {},
     "output_type": "execute_result"
    }
   ],
   "source": [
    "mean_squared_error(y_test, res/N)"
   ]
  },
  {
   "cell_type": "markdown",
   "metadata": {
    "id": "gBiJbCw_zhTk"
   },
   "source": [
    "Качество стало заметно хуже."
   ]
  },
  {
   "cell_type": "markdown",
   "metadata": {
    "id": "fwRSSQ5cjQbH"
   },
   "source": [
    "### 3. Случайный лес"
   ]
  },
  {
   "cell_type": "markdown",
   "metadata": {
    "id": "Y_vuxA9LdYVA"
   },
   "source": [
    "Случайный лес помимо бэггинга над деревьями использует метод случайных подпространств. При построении разбиения в каждой вершине каждого дерева используются не все признаки, а лишь случайное подмножество призкаков. Это необходимо, чтобы ответы на построенных деревьях меньше коррелировали между собой."
   ]
  },
  {
   "cell_type": "code",
   "execution_count": 63,
   "metadata": {
    "id": "yMtv-g_Lf_aU"
   },
   "outputs": [],
   "source": [
    "from sklearn.ensemble import RandomForestRegressor"
   ]
  },
  {
   "cell_type": "code",
   "execution_count": 64,
   "metadata": {
    "id": "v7yHQk5BoOnJ"
   },
   "outputs": [],
   "source": [
    "clf = RandomForestRegressor(n_estimators=100, max_features=0.2)"
   ]
  },
  {
   "cell_type": "code",
   "execution_count": 65,
   "metadata": {
    "colab": {
     "base_uri": "https://localhost:8080/",
     "height": 138
    },
    "id": "YuyyUoXUh6Xu",
    "outputId": "b9decafe-2a1f-4cd8-edd5-7c6edadd0979"
   },
   "outputs": [
    {
     "data": {
      "text/plain": [
       "RandomForestRegressor(max_features=0.2)"
      ]
     },
     "execution_count": 65,
     "metadata": {},
     "output_type": "execute_result"
    }
   ],
   "source": [
    "clf.fit(X_train, y_train)"
   ]
  },
  {
   "cell_type": "code",
   "execution_count": 66,
   "metadata": {
    "colab": {
     "base_uri": "https://localhost:8080/",
     "height": 35
    },
    "id": "Sit9PkOJh_h5",
    "outputId": "daf4d57c-a89e-4d12-91dc-750ffa1b7ac4"
   },
   "outputs": [
    {
     "data": {
      "text/plain": [
       "3416.216540271493"
      ]
     },
     "execution_count": 66,
     "metadata": {},
     "output_type": "execute_result"
    }
   ],
   "source": [
    "mean_squared_error(y_test, clf.predict(X_test))"
   ]
  },
  {
   "cell_type": "markdown",
   "metadata": {
    "id": "fIoafT2zjltJ"
   },
   "source": [
    "### 4. Зависимость качества от числа деревьев "
   ]
  },
  {
   "cell_type": "code",
   "execution_count": 20,
   "metadata": {
    "id": "5XtoAv9_jlRd"
   },
   "outputs": [],
   "source": [
    "import matplotlib.pyplot as plt"
   ]
  },
  {
   "cell_type": "code",
   "execution_count": 21,
   "metadata": {
    "id": "HtRLDWHTYMQK"
   },
   "outputs": [],
   "source": [
    "Q = [] # сюда будем складывать качество по MSE\n",
    "for n_est in range(1, 200, 2):\n",
    "    clf = RandomForestRegressor(n_estimators=n_est, max_features=0.2)\n",
    "    clf.fit(X_train, y_train)\n",
    "    Q.append(mean_squared_error(y_test, clf.predict(X_test)))\n"
   ]
  },
  {
   "cell_type": "code",
   "execution_count": 22,
   "metadata": {
    "colab": {
     "base_uri": "https://localhost:8080/",
     "height": 281
    },
    "id": "UDrlMqanZ7wS",
    "outputId": "2ce537bb-2119-4d79-9583-fabf84ad7058"
   },
   "outputs": [
    {
     "data": {
      "image/png": "[encoded data removed]",
      "text/plain": [
       "<Figure size 432x288 with 1 Axes>"
      ]
     },
     "metadata": {
      "needs_background": "light"
     },
     "output_type": "display_data"
    }
   ],
   "source": [
    "plt.plot(range(1, 200, 2), Q)\n",
    "plt.xlabel('n_esimators')\n",
    "plt.ylabel('MSE')\n",
    "plt.show()"
   ]
  },
  {
   "cell_type": "markdown",
   "metadata": {
    "id": "3kMpfKEKxwZn"
   },
   "source": [
    "### 5. Зависимость качества от гиперпарамерта max_features (отвечает за то, какоекол-во признаков будем перебирать для выбора лучшего разбиения в каждой вершине)"
   ]
  },
  {
   "cell_type": "code",
   "execution_count": 69,
   "metadata": {
    "id": "5bErQ6dJwlfM"
   },
   "outputs": [],
   "source": [
    "Q = []\n",
    "for max_feat in range(1, 10):\n",
    "    clf = RandomForestRegressor(n_estimators=100, max_features=max_feat)\n",
    "    clf.fit(X_train, y_train)\n",
    "    Q.append(mean_squared_error(y_test, clf.predict(X_test)))\n"
   ]
  },
  {
   "cell_type": "code",
   "execution_count": 70,
   "metadata": {
    "colab": {
     "base_uri": "https://localhost:8080/",
     "height": 280
    },
    "id": "Zh3cw7hQw1Ct",
    "outputId": "b61b3845-2115-4077-c436-eda703831e23"
   },
   "outputs": [
    {
     "data": {
      "image/png": "[encoded data removed]",
      "text/plain": [
       "<Figure size 432x288 with 1 Axes>"
      ]
     },
     "metadata": {
      "needs_background": "light"
     },
     "output_type": "display_data"
    }
   ],
   "source": [
    "plt.plot(range(1, 10), Q)\n",
    "plt.xlabel('max_features')\n",
    "plt.ylabel('MSE')\n",
    "plt.show()"
   ]
  },
  {
   "cell_type": "markdown",
   "metadata": {
    "id": "G-HuiiEhi7Je"
   },
   "source": [
    "## 6. Важность признаков"
   ]
  },
  {
   "cell_type": "code",
   "execution_count": 25,
   "metadata": {
    "id": "09oYpVemkxPg"
   },
   "outputs": [],
   "source": [
    "import seaborn as sns\n",
    "import pandas as pd"
   ]
  },
  {
   "cell_type": "code",
   "execution_count": 26,
   "metadata": {
    "id": "hxIhViGglC6Q"
   },
   "outputs": [],
   "source": [
    "feature_imp = pd.DataFrame({'importances': clf.feature_importances_, 'name':ds.feature_names})"
   ]
  },
  {
   "cell_type": "code",
   "execution_count": 27,
   "metadata": {
    "colab": {
     "base_uri": "https://localhost:8080/",
     "height": 296
    },
    "id": "U3HteIt_jlO2",
    "outputId": "7f6f0c79-b1b4-4ce6-9d91-357383e5ca73"
   },
   "outputs": [
    {
     "data": {
      "text/plain": [
       "<AxesSubplot:xlabel='importances', ylabel='name'>"
      ]
     },
     "execution_count": 27,
     "metadata": {},
     "output_type": "execute_result"
    },
    {
     "data": {
      "image/png": "[encoded data removed]",
      "text/plain": [
       "<Figure size 432x288 with 1 Axes>"
      ]
     },
     "metadata": {
      "needs_background": "light"
     },
     "output_type": "display_data"
    }
   ],
   "source": [
    "sns.barplot(x=\"importances\", y=\"name\", data=feature_imp)"
   ]
  },
  {
   "cell_type": "markdown",
   "metadata": {
    "id": "80FppLk6ly2T"
   },
   "source": [
    "Наиболее важные признаки при обучении случайного леса оказались\n",
    "\n",
    "`bmi` - Body mass index\n",
    "\n",
    "`s5`"
   ]
  },
  {
   "cell_type": "markdown",
   "metadata": {
    "id": "nt8dGDfUlt1j"
   },
   "source": [
    "Удалим один из наиболее важных признаков\n",
    "\n"
   ]
  },
  {
   "cell_type": "code",
   "execution_count": 28,
   "metadata": {
    "colab": {
     "base_uri": "https://localhost:8080/",
     "height": 35
    },
    "id": "zF0BpiYumqJ7",
    "outputId": "feb6c9d8-0c9b-47d4-8873-8d5a83e87d1f"
   },
   "outputs": [
    {
     "data": {
      "text/plain": [
       "['age', 'sex', 'bmi', 'bp', 's1', 's2', 's3', 's4', 's5', 's6']"
      ]
     },
     "execution_count": 28,
     "metadata": {},
     "output_type": "execute_result"
    }
   ],
   "source": [
    "ds.feature_names"
   ]
  },
  {
   "cell_type": "code",
   "execution_count": 29,
   "metadata": {
    "id": "B_bqAbdkoEys"
   },
   "outputs": [],
   "source": [
    "ind = np.append(np.arange(2), np.arange(3, 10))"
   ]
  },
  {
   "cell_type": "code",
   "execution_count": 30,
   "metadata": {
    "id": "aUw_lqZeoahT"
   },
   "outputs": [],
   "source": [
    "clf = RandomForestRegressor(n_estimators=100, max_features=0.2)"
   ]
  },
  {
   "cell_type": "code",
   "execution_count": 31,
   "metadata": {
    "colab": {
     "base_uri": "https://localhost:8080/",
     "height": 138
    },
    "id": "frgIPDTvoR5R",
    "outputId": "c93ce37c-3f78-4857-e5c5-4c3bf0c8188c"
   },
   "outputs": [
    {
     "data": {
      "text/plain": [
       "RandomForestRegressor(max_features=0.2)"
      ]
     },
     "execution_count": 31,
     "metadata": {},
     "output_type": "execute_result"
    }
   ],
   "source": [
    "clf.fit(X_train[:, ind], y_train)"
   ]
  },
  {
   "cell_type": "code",
   "execution_count": 32,
   "metadata": {
    "colab": {
     "base_uri": "https://localhost:8080/",
     "height": 35
    },
    "id": "fK8eori6n_qS",
    "outputId": "f53c7397-7d8b-4bff-a5a6-aa613e9aec19"
   },
   "outputs": [
    {
     "data": {
      "text/plain": [
       "3768.1518357466066"
      ]
     },
     "execution_count": 32,
     "metadata": {},
     "output_type": "execute_result"
    }
   ],
   "source": [
    "mean_squared_error(y_test, clf.predict(X_test[:, ind]))"
   ]
  },
  {
   "cell_type": "markdown",
   "metadata": {
    "id": "3IHQZuxypDe-"
   },
   "source": [
    "Удалим наименее важный признак"
   ]
  },
  {
   "cell_type": "code",
   "execution_count": 33,
   "metadata": {
    "id": "_OcVtE3_pCyr"
   },
   "outputs": [],
   "source": [
    "ind = np.append(np.arange(1), np.arange(2, 10))"
   ]
  },
  {
   "cell_type": "code",
   "execution_count": 34,
   "metadata": {
    "colab": {
     "base_uri": "https://localhost:8080/",
     "height": 138
    },
    "id": "myCFs_DxpXUH",
    "outputId": "f8a19482-72bb-4f1a-9d3d-fad75924bad7"
   },
   "outputs": [
    {
     "data": {
      "text/plain": [
       "RandomForestRegressor(max_features=0.2)"
      ]
     },
     "execution_count": 34,
     "metadata": {},
     "output_type": "execute_result"
    }
   ],
   "source": [
    "clf.fit(X_train[:, ind], y_train)"
   ]
  },
  {
   "cell_type": "code",
   "execution_count": 35,
   "metadata": {
    "colab": {
     "base_uri": "https://localhost:8080/",
     "height": 35
    },
    "id": "v70kVy9Npajs",
    "outputId": "3507e1de-8dd4-4b03-c597-9e59d430f859"
   },
   "outputs": [
    {
     "data": {
      "text/plain": [
       "3612.976153846154"
      ]
     },
     "execution_count": 35,
     "metadata": {},
     "output_type": "execute_result"
    }
   ],
   "source": [
    "mean_squared_error(y_test, clf.predict(X_test[:, ind]))"
   ]
  },
  {
   "cell_type": "markdown",
   "metadata": {
    "id": "MImz03C4p-ZQ"
   },
   "source": [
    "Видно, что при удалении важных признаков MSE сильно возрастает. При удалении наименее важных признаков MSE почти не изменяется."
   ]
  },
  {
   "cell_type": "markdown",
   "metadata": {
    "id": "5n86btYlkaZl"
   },
   "source": [
    "## 7. Смешивание моделей"
   ]
  },
  {
   "cell_type": "markdown",
   "metadata": {
    "id": "vHCcw67dqtkA"
   },
   "source": [
    "Часто с помощью линейной комбинации разных моделей можно добиться лучшего качества, чем с помощью каждой модели по отдельности.\n"
   ]
  },
  {
   "cell_type": "markdown",
   "metadata": {
    "id": "j5KudYtzu24-"
   },
   "source": [
    "Используем линейную комбинацию "
   ]
  },
  {
   "cell_type": "code",
   "execution_count": 36,
   "metadata": {
    "id": "PYX_4_OMqsTN"
   },
   "outputs": [],
   "source": [
    "from sklearn.linear_model  import LinearRegression"
   ]
  },
  {
   "cell_type": "code",
   "execution_count": 37,
   "metadata": {
    "id": "e-fPJca-rDET"
   },
   "outputs": [],
   "source": [
    "lr = LinearRegression()"
   ]
  },
  {
   "cell_type": "code",
   "execution_count": 38,
   "metadata": {
    "colab": {
     "base_uri": "https://localhost:8080/",
     "height": 35
    },
    "id": "ic7iWxuerEtk",
    "outputId": "2744021a-311c-4ed0-d716-15f7a92f5749"
   },
   "outputs": [
    {
     "data": {
      "text/plain": [
       "LinearRegression()"
      ]
     },
     "execution_count": 38,
     "metadata": {},
     "output_type": "execute_result"
    }
   ],
   "source": [
    "lr.fit(X_train,  y_train)"
   ]
  },
  {
   "cell_type": "code",
   "execution_count": 39,
   "metadata": {
    "colab": {
     "base_uri": "https://localhost:8080/",
     "height": 35
    },
    "id": "62bxeVbArJij",
    "outputId": "3fe598a3-d5be-4757-c8fe-e331aeb91bc3"
   },
   "outputs": [
    {
     "data": {
      "text/plain": [
       "3359.499466288206"
      ]
     },
     "execution_count": 39,
     "metadata": {},
     "output_type": "execute_result"
    }
   ],
   "source": [
    "mean_squared_error(y_test, lr.predict(X_test))"
   ]
  },
  {
   "cell_type": "code",
   "execution_count": 40,
   "metadata": {
    "colab": {
     "base_uri": "https://localhost:8080/",
     "height": 138
    },
    "id": "rdCBvNZXvCuS",
    "outputId": "73cf3356-44ce-47a9-f676-2f7cd4277277"
   },
   "outputs": [
    {
     "data": {
      "text/plain": [
       "RandomForestRegressor(n_estimators=200)"
      ]
     },
     "execution_count": 40,
     "metadata": {},
     "output_type": "execute_result"
    }
   ],
   "source": [
    "clf = RandomForestRegressor(n_estimators=200)\n",
    "clf.fit(X_train, y_train)"
   ]
  },
  {
   "cell_type": "code",
   "execution_count": 41,
   "metadata": {
    "id": "9Odjnf4BrMQB"
   },
   "outputs": [],
   "source": [
    "min_mse = mean_squared_error(y_test, lr.predict(X_test))\n",
    "for i in range(100):\n",
    "    mse = mean_squared_error(y_test, \n",
    "                           (i*lr.predict(X_test) + (100 - i)*clf.predict(X_test))/100.0)\n",
    "    if mse < min_mse:\n",
    "        min_mse = mse\n",
    "        best_i = i"
   ]
  },
  {
   "cell_type": "code",
   "execution_count": 42,
   "metadata": {
    "colab": {
     "base_uri": "https://localhost:8080/",
     "height": 35
    },
    "id": "5KxKPYSQtd3x",
    "outputId": "dbf9be6a-6906-45a1-b393-84be0e3d219a"
   },
   "outputs": [
    {
     "data": {
      "text/plain": [
       "3201.0007881449064"
      ]
     },
     "execution_count": 42,
     "metadata": {},
     "output_type": "execute_result"
    }
   ],
   "source": [
    "mean_squared_error(y_test, \n",
    "                   (best_i*lr.predict(X_test) + (100 - best_i)*clf.predict(X_test))/100.0)"
   ]
  },
  {
   "cell_type": "code",
   "execution_count": null,
   "metadata": {
    "id": "4GIQlU3VtztO"
   },
   "outputs": [],
   "source": []
  }
 ],
 "metadata": {
  "colab": {
   "collapsed_sections": [],
   "name": "Untitled0.ipynb",
   "provenance": []
  },
  "kernelspec": {
   "display_name": "Python 3",
   "language": "python",
   "name": "python3"
  },
  "language_info": {
   "codemirror_mode": {
    "name": "ipython",
    "version": 3
   },
   "file_extension": ".py",
   "mimetype": "text/x-python",
   "name": "python",
   "nbconvert_exporter": "python",
   "pygments_lexer": "ipython3",
   "version": "3.8.10"
  }
 },
 "nbformat": 4,
 "nbformat_minor": 1
}
