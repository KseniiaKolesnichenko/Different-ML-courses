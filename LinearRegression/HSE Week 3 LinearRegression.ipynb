{
 "cells": [
  {
   "cell_type": "markdown",
   "metadata": {
    "id": "EsonS9rYfD_l"
   },
   "source": [
    "Сегодня мы будем работать с линейной регрессией в библиотеке sklearn. Воспользуемся классами с различным типом регуляризации и подберем оптимальные гипер-параметры для этих моделей. Решать будем задачу с Kaggle про предсказание длины поездки в такси [New York City Taxi Trip Duration](https://www.kaggle.com/c/nyc-taxi-trip-duration/overview).\n",
    "\n",
    "Первым делом необходимо скачать данные. Воспользуйтесь следующей инструкцией: [Как скачать данные с kaggle в colab.](https://medium.com/@saedhussain/google-colaboratory-and-kaggle-datasets-b57a83eb6ef8) Ниже есть необходимый код, вам нужно лишь запрость токен на kaggle и загрузить его."
   ]
  },
  {
   "cell_type": "code",
   "execution_count": 1,
   "metadata": {},
   "outputs": [],
   "source": [
    "#data https://www.kaggle.com/c/nyc-taxi-trip-duration"
   ]
  },
  {
   "cell_type": "code",
   "execution_count": 2,
   "metadata": {
    "id": "97XgSxwzhjeb"
   },
   "outputs": [],
   "source": [
    "#!pip install -q kaggle"
   ]
  },
  {
   "cell_type": "code",
   "execution_count": 3,
   "metadata": {
    "id": "I94R4GPJhk8g"
   },
   "outputs": [],
   "source": [
    "#from google.colab import files\n",
    "#uploaded = files.upload()"
   ]
  },
  {
   "cell_type": "code",
   "execution_count": 4,
   "metadata": {
    "id": "54ZXCNA-hrBk"
   },
   "outputs": [],
   "source": [
    "#!mkdir /root/.kaggle\n",
    "#!mv kaggle.json /root/.kaggle/kaggle.json\n",
    "#!kaggle competitions download -c nyc-taxi-trip-duration"
   ]
  },
  {
   "cell_type": "markdown",
   "metadata": {
    "id": "RFUP6F8K_kLv"
   },
   "source": [
    "Распакуем данные, которые мы загрузили. Работать будем только с train частью, так как там имеются значения предсказываемой переменной."
   ]
  },
  {
   "cell_type": "code",
   "execution_count": 5,
   "metadata": {
    "id": "b1jiU7hKiTUm"
   },
   "outputs": [],
   "source": [
    "import pandas as pd\n",
    "import seaborn as sns\n",
    "from matplotlib import pyplot as plt\n",
    "\n",
    "df = pd.read_csv('HSE taxi train.zip', compression='zip', header=0, sep=',', quotechar='\"')"
   ]
  },
  {
   "cell_type": "code",
   "execution_count": 6,
   "metadata": {
    "colab": {
     "base_uri": "https://localhost:8080/",
     "height": 206
    },
    "id": "Dl-adIw4kONn",
    "outputId": "55391ac1-c201-43fc-cdf0-37ea1ee44c76"
   },
   "outputs": [
    {
     "data": {
      "text/html": [
       "<div>\n",
       "<style scoped>\n",
       "    .dataframe tbody tr th:only-of-type {\n",
       "        vertical-align: middle;\n",
       "    }\n",
       "\n",
       "    .dataframe tbody tr th {\n",
       "        vertical-align: top;\n",
       "    }\n",
       "\n",
       "    .dataframe thead th {\n",
       "        text-align: right;\n",
       "    }\n",
       "</style>\n",
       "<table border=\"1\" class=\"dataframe\">\n",
       "  <thead>\n",
       "    <tr style=\"text-align: right;\">\n",
       "      <th></th>\n",
       "      <th>id</th>\n",
       "      <th>vendor_id</th>\n",
       "      <th>pickup_datetime</th>\n",
       "      <th>dropoff_datetime</th>\n",
       "      <th>passenger_count</th>\n",
       "      <th>pickup_longitude</th>\n",
       "      <th>pickup_latitude</th>\n",
       "      <th>dropoff_longitude</th>\n",
       "      <th>dropoff_latitude</th>\n",
       "      <th>store_and_fwd_flag</th>\n",
       "      <th>trip_duration</th>\n",
       "    </tr>\n",
       "  </thead>\n",
       "  <tbody>\n",
       "    <tr>\n",
       "      <th>0</th>\n",
       "      <td>id2875421</td>\n",
       "      <td>2</td>\n",
       "      <td>2016-03-14 17:24:55</td>\n",
       "      <td>2016-03-14 17:32:30</td>\n",
       "      <td>1</td>\n",
       "      <td>-73.982155</td>\n",
       "      <td>40.767937</td>\n",
       "      <td>-73.964630</td>\n",
       "      <td>40.765602</td>\n",
       "      <td>N</td>\n",
       "      <td>455</td>\n",
       "    </tr>\n",
       "    <tr>\n",
       "      <th>1</th>\n",
       "      <td>id2377394</td>\n",
       "      <td>1</td>\n",
       "      <td>2016-06-12 00:43:35</td>\n",
       "      <td>2016-06-12 00:54:38</td>\n",
       "      <td>1</td>\n",
       "      <td>-73.980415</td>\n",
       "      <td>40.738564</td>\n",
       "      <td>-73.999481</td>\n",
       "      <td>40.731152</td>\n",
       "      <td>N</td>\n",
       "      <td>663</td>\n",
       "    </tr>\n",
       "    <tr>\n",
       "      <th>2</th>\n",
       "      <td>id3858529</td>\n",
       "      <td>2</td>\n",
       "      <td>2016-01-19 11:35:24</td>\n",
       "      <td>2016-01-19 12:10:48</td>\n",
       "      <td>1</td>\n",
       "      <td>-73.979027</td>\n",
       "      <td>40.763939</td>\n",
       "      <td>-74.005333</td>\n",
       "      <td>40.710087</td>\n",
       "      <td>N</td>\n",
       "      <td>2124</td>\n",
       "    </tr>\n",
       "    <tr>\n",
       "      <th>3</th>\n",
       "      <td>id3504673</td>\n",
       "      <td>2</td>\n",
       "      <td>2016-04-06 19:32:31</td>\n",
       "      <td>2016-04-06 19:39:40</td>\n",
       "      <td>1</td>\n",
       "      <td>-74.010040</td>\n",
       "      <td>40.719971</td>\n",
       "      <td>-74.012268</td>\n",
       "      <td>40.706718</td>\n",
       "      <td>N</td>\n",
       "      <td>429</td>\n",
       "    </tr>\n",
       "    <tr>\n",
       "      <th>4</th>\n",
       "      <td>id2181028</td>\n",
       "      <td>2</td>\n",
       "      <td>2016-03-26 13:30:55</td>\n",
       "      <td>2016-03-26 13:38:10</td>\n",
       "      <td>1</td>\n",
       "      <td>-73.973053</td>\n",
       "      <td>40.793209</td>\n",
       "      <td>-73.972923</td>\n",
       "      <td>40.782520</td>\n",
       "      <td>N</td>\n",
       "      <td>435</td>\n",
       "    </tr>\n",
       "  </tbody>\n",
       "</table>\n",
       "</div>"
      ],
      "text/plain": [
       "          id  vendor_id      pickup_datetime     dropoff_datetime  \\\n",
       "0  id2875421          2  2016-03-14 17:24:55  2016-03-14 17:32:30   \n",
       "1  id2377394          1  2016-06-12 00:43:35  2016-06-12 00:54:38   \n",
       "2  id3858529          2  2016-01-19 11:35:24  2016-01-19 12:10:48   \n",
       "3  id3504673          2  2016-04-06 19:32:31  2016-04-06 19:39:40   \n",
       "4  id2181028          2  2016-03-26 13:30:55  2016-03-26 13:38:10   \n",
       "\n",
       "   passenger_count  pickup_longitude  pickup_latitude  dropoff_longitude  \\\n",
       "0                1        -73.982155        40.767937         -73.964630   \n",
       "1                1        -73.980415        40.738564         -73.999481   \n",
       "2                1        -73.979027        40.763939         -74.005333   \n",
       "3                1        -74.010040        40.719971         -74.012268   \n",
       "4                1        -73.973053        40.793209         -73.972923   \n",
       "\n",
       "   dropoff_latitude store_and_fwd_flag  trip_duration  \n",
       "0         40.765602                  N            455  \n",
       "1         40.731152                  N            663  \n",
       "2         40.710087                  N           2124  \n",
       "3         40.706718                  N            429  \n",
       "4         40.782520                  N            435  "
      ]
     },
     "execution_count": 6,
     "metadata": {},
     "output_type": "execute_result"
    }
   ],
   "source": [
    "df.head()"
   ]
  },
  {
   "cell_type": "markdown",
   "metadata": {
    "id": "gfj1afXBl0y-"
   },
   "source": [
    "Мы видим информацию о каждой поездке. Нам известны координаты, время начала поездки, количество пассажиров и т.д. Удалим колонку, которая есть только в обучающей выборке `dropoff_datetime`. Из названия понятно, что используя эту колонку и `pickup_datetime` мы сможем восстановить длину поездки. Очевидно, что в начале поездки `dropoff_datetime` нам недоступна, а значит и для предсказания ее использовать нельзя."
   ]
  },
  {
   "cell_type": "code",
   "execution_count": 7,
   "metadata": {
    "id": "3X1R-uB_jE2h"
   },
   "outputs": [],
   "source": [
    "df = df.drop('dropoff_datetime', axis=1)"
   ]
  },
  {
   "cell_type": "markdown",
   "metadata": {
    "id": "R9U6zQ0nl5ju"
   },
   "source": [
    "Сейчас даты записаны в виде строк. Давайте преобразуем их в питонячие datetime объекты. Таким образом мы сможем выполнять арифметические операции с датами и вытаскивать нужную информацию, не работая со строками."
   ]
  },
  {
   "cell_type": "code",
   "execution_count": 8,
   "metadata": {
    "id": "7RmJ9B5kjJgJ"
   },
   "outputs": [],
   "source": [
    "df.pickup_datetime = pd.to_datetime(df.pickup_datetime)"
   ]
  },
  {
   "cell_type": "markdown",
   "metadata": {
    "id": "NerTyfJWl9w4"
   },
   "source": [
    "Давайте разобьем выборку на train и test. Применить функцию `train_test_split` в этот раз не получиться. Мы теперь имеем дело с временными данными и на практике наша модель должна уметь работать во временных периодах, которых нет в обучающей выборке. Поэтому разбивать мы будем датасет по хронологии. Для этого отсортируем датасет по дате и возьмем первые N строк."
   ]
  },
  {
   "cell_type": "code",
   "execution_count": 9,
   "metadata": {
    "id": "E4PGcOF4kjHh"
   },
   "outputs": [],
   "source": [
    "df = df.sort_values(by='pickup_datetime')"
   ]
  },
  {
   "cell_type": "code",
   "execution_count": 10,
   "metadata": {
    "colab": {
     "base_uri": "https://localhost:8080/",
     "height": 206
    },
    "id": "LbnQNS502lXy",
    "outputId": "9cb04cd1-7688-4ee2-f14d-53f9cd9f2f22"
   },
   "outputs": [
    {
     "data": {
      "text/html": [
       "<div>\n",
       "<style scoped>\n",
       "    .dataframe tbody tr th:only-of-type {\n",
       "        vertical-align: middle;\n",
       "    }\n",
       "\n",
       "    .dataframe tbody tr th {\n",
       "        vertical-align: top;\n",
       "    }\n",
       "\n",
       "    .dataframe thead th {\n",
       "        text-align: right;\n",
       "    }\n",
       "</style>\n",
       "<table border=\"1\" class=\"dataframe\">\n",
       "  <thead>\n",
       "    <tr style=\"text-align: right;\">\n",
       "      <th></th>\n",
       "      <th>id</th>\n",
       "      <th>vendor_id</th>\n",
       "      <th>pickup_datetime</th>\n",
       "      <th>passenger_count</th>\n",
       "      <th>pickup_longitude</th>\n",
       "      <th>pickup_latitude</th>\n",
       "      <th>dropoff_longitude</th>\n",
       "      <th>dropoff_latitude</th>\n",
       "      <th>store_and_fwd_flag</th>\n",
       "      <th>trip_duration</th>\n",
       "    </tr>\n",
       "  </thead>\n",
       "  <tbody>\n",
       "    <tr>\n",
       "      <th>96469</th>\n",
       "      <td>id0190469</td>\n",
       "      <td>2</td>\n",
       "      <td>2016-01-01 00:00:17</td>\n",
       "      <td>5</td>\n",
       "      <td>-73.981743</td>\n",
       "      <td>40.719158</td>\n",
       "      <td>-73.938828</td>\n",
       "      <td>40.829182</td>\n",
       "      <td>N</td>\n",
       "      <td>849</td>\n",
       "    </tr>\n",
       "    <tr>\n",
       "      <th>223872</th>\n",
       "      <td>id1665586</td>\n",
       "      <td>1</td>\n",
       "      <td>2016-01-01 00:00:53</td>\n",
       "      <td>1</td>\n",
       "      <td>-73.985085</td>\n",
       "      <td>40.747166</td>\n",
       "      <td>-73.958038</td>\n",
       "      <td>40.717491</td>\n",
       "      <td>N</td>\n",
       "      <td>1294</td>\n",
       "    </tr>\n",
       "    <tr>\n",
       "      <th>713067</th>\n",
       "      <td>id1210365</td>\n",
       "      <td>2</td>\n",
       "      <td>2016-01-01 00:01:01</td>\n",
       "      <td>5</td>\n",
       "      <td>-73.965279</td>\n",
       "      <td>40.801041</td>\n",
       "      <td>-73.947479</td>\n",
       "      <td>40.815170</td>\n",
       "      <td>N</td>\n",
       "      <td>408</td>\n",
       "    </tr>\n",
       "    <tr>\n",
       "      <th>652463</th>\n",
       "      <td>id3888279</td>\n",
       "      <td>1</td>\n",
       "      <td>2016-01-01 00:01:14</td>\n",
       "      <td>1</td>\n",
       "      <td>-73.982292</td>\n",
       "      <td>40.751331</td>\n",
       "      <td>-73.991341</td>\n",
       "      <td>40.750340</td>\n",
       "      <td>N</td>\n",
       "      <td>280</td>\n",
       "    </tr>\n",
       "    <tr>\n",
       "      <th>722901</th>\n",
       "      <td>id0924227</td>\n",
       "      <td>1</td>\n",
       "      <td>2016-01-01 00:01:20</td>\n",
       "      <td>1</td>\n",
       "      <td>-73.970108</td>\n",
       "      <td>40.759800</td>\n",
       "      <td>-73.989357</td>\n",
       "      <td>40.742989</td>\n",
       "      <td>N</td>\n",
       "      <td>736</td>\n",
       "    </tr>\n",
       "  </tbody>\n",
       "</table>\n",
       "</div>"
      ],
      "text/plain": [
       "               id  vendor_id     pickup_datetime  passenger_count  \\\n",
       "96469   id0190469          2 2016-01-01 00:00:17                5   \n",
       "223872  id1665586          1 2016-01-01 00:00:53                1   \n",
       "713067  id1210365          2 2016-01-01 00:01:01                5   \n",
       "652463  id3888279          1 2016-01-01 00:01:14                1   \n",
       "722901  id0924227          1 2016-01-01 00:01:20                1   \n",
       "\n",
       "        pickup_longitude  pickup_latitude  dropoff_longitude  \\\n",
       "96469         -73.981743        40.719158         -73.938828   \n",
       "223872        -73.985085        40.747166         -73.958038   \n",
       "713067        -73.965279        40.801041         -73.947479   \n",
       "652463        -73.982292        40.751331         -73.991341   \n",
       "722901        -73.970108        40.759800         -73.989357   \n",
       "\n",
       "        dropoff_latitude store_and_fwd_flag  trip_duration  \n",
       "96469          40.829182                  N            849  \n",
       "223872         40.717491                  N           1294  \n",
       "713067         40.815170                  N            408  \n",
       "652463         40.750340                  N            280  \n",
       "722901         40.742989                  N            736  "
      ]
     },
     "execution_count": 10,
     "metadata": {},
     "output_type": "execute_result"
    }
   ],
   "source": [
    "df.head()"
   ]
  },
  {
   "cell_type": "code",
   "execution_count": 11,
   "metadata": {
    "id": "Qzhbddk_2nnt"
   },
   "outputs": [],
   "source": [
    "df_train = df[:10 ** 6]\n",
    "df_test = df[10 ** 6:]"
   ]
  },
  {
   "cell_type": "code",
   "execution_count": 12,
   "metadata": {},
   "outputs": [
    {
     "name": "stderr",
     "output_type": "stream",
     "text": [
      "<ipython-input-12-0e60cfe4efbb>:3: SettingWithCopyWarning: \n",
      "A value is trying to be set on a copy of a slice from a DataFrame.\n",
      "Try using .loc[row_indexer,col_indexer] = value instead\n",
      "\n",
      "See the caveats in the documentation: https://pandas.pydata.org/pandas-docs/stable/user_guide/indexing.html#returning-a-view-versus-a-copy\n",
      "  df_train['weekday']= df_train.pickup_datetime.dt.weekday\n"
     ]
    },
    {
     "data": {
      "text/html": [
       "<div>\n",
       "<style scoped>\n",
       "    .dataframe tbody tr th:only-of-type {\n",
       "        vertical-align: middle;\n",
       "    }\n",
       "\n",
       "    .dataframe tbody tr th {\n",
       "        vertical-align: top;\n",
       "    }\n",
       "\n",
       "    .dataframe thead th {\n",
       "        text-align: right;\n",
       "    }\n",
       "</style>\n",
       "<table border=\"1\" class=\"dataframe\">\n",
       "  <thead>\n",
       "    <tr style=\"text-align: right;\">\n",
       "      <th></th>\n",
       "      <th>vendor_id</th>\n",
       "      <th>passenger_count</th>\n",
       "      <th>pickup_longitude</th>\n",
       "      <th>pickup_latitude</th>\n",
       "      <th>dropoff_longitude</th>\n",
       "      <th>dropoff_latitude</th>\n",
       "      <th>trip_duration</th>\n",
       "    </tr>\n",
       "    <tr>\n",
       "      <th>weekday</th>\n",
       "      <th></th>\n",
       "      <th></th>\n",
       "      <th></th>\n",
       "      <th></th>\n",
       "      <th></th>\n",
       "      <th></th>\n",
       "      <th></th>\n",
       "    </tr>\n",
       "  </thead>\n",
       "  <tbody>\n",
       "    <tr>\n",
       "      <th>0</th>\n",
       "      <td>200496</td>\n",
       "      <td>213177</td>\n",
       "      <td>-9.657811e+06</td>\n",
       "      <td>5.320641e+06</td>\n",
       "      <td>-9.658099e+06</td>\n",
       "      <td>5.320781e+06</td>\n",
       "      <td>115332940</td>\n",
       "    </tr>\n",
       "    <tr>\n",
       "      <th>1</th>\n",
       "      <td>217413</td>\n",
       "      <td>231037</td>\n",
       "      <td>-1.045154e+07</td>\n",
       "      <td>5.757815e+06</td>\n",
       "      <td>-1.045170e+07</td>\n",
       "      <td>5.757921e+06</td>\n",
       "      <td>137059566</td>\n",
       "    </tr>\n",
       "    <tr>\n",
       "      <th>2</th>\n",
       "      <td>212324</td>\n",
       "      <td>226372</td>\n",
       "      <td>-1.024343e+07</td>\n",
       "      <td>5.643035e+06</td>\n",
       "      <td>-1.024342e+07</td>\n",
       "      <td>5.643134e+06</td>\n",
       "      <td>129667499</td>\n",
       "    </tr>\n",
       "    <tr>\n",
       "      <th>3</th>\n",
       "      <td>220487</td>\n",
       "      <td>235775</td>\n",
       "      <td>-1.062679e+07</td>\n",
       "      <td>5.854237e+06</td>\n",
       "      <td>-1.062673e+07</td>\n",
       "      <td>5.854291e+06</td>\n",
       "      <td>139003892</td>\n",
       "    </tr>\n",
       "    <tr>\n",
       "      <th>4</th>\n",
       "      <td>240130</td>\n",
       "      <td>260141</td>\n",
       "      <td>-1.157150e+07</td>\n",
       "      <td>6.374544e+06</td>\n",
       "      <td>-1.157138e+07</td>\n",
       "      <td>6.374643e+06</td>\n",
       "      <td>150730743</td>\n",
       "    </tr>\n",
       "    <tr>\n",
       "      <th>5</th>\n",
       "      <td>235872</td>\n",
       "      <td>266011</td>\n",
       "      <td>-1.135091e+07</td>\n",
       "      <td>6.252533e+06</td>\n",
       "      <td>-1.135067e+07</td>\n",
       "      <td>6.252683e+06</td>\n",
       "      <td>143587081</td>\n",
       "    </tr>\n",
       "    <tr>\n",
       "      <th>6</th>\n",
       "      <td>209776</td>\n",
       "      <td>233690</td>\n",
       "      <td>-1.007178e+07</td>\n",
       "      <td>5.548148e+06</td>\n",
       "      <td>-1.007166e+07</td>\n",
       "      <td>5.548378e+06</td>\n",
       "      <td>121792972</td>\n",
       "    </tr>\n",
       "  </tbody>\n",
       "</table>\n",
       "</div>"
      ],
      "text/plain": [
       "         vendor_id  passenger_count  pickup_longitude  pickup_latitude  \\\n",
       "weekday                                                                  \n",
       "0           200496           213177     -9.657811e+06     5.320641e+06   \n",
       "1           217413           231037     -1.045154e+07     5.757815e+06   \n",
       "2           212324           226372     -1.024343e+07     5.643035e+06   \n",
       "3           220487           235775     -1.062679e+07     5.854237e+06   \n",
       "4           240130           260141     -1.157150e+07     6.374544e+06   \n",
       "5           235872           266011     -1.135091e+07     6.252533e+06   \n",
       "6           209776           233690     -1.007178e+07     5.548148e+06   \n",
       "\n",
       "         dropoff_longitude  dropoff_latitude  trip_duration  \n",
       "weekday                                                      \n",
       "0            -9.658099e+06      5.320781e+06      115332940  \n",
       "1            -1.045170e+07      5.757921e+06      137059566  \n",
       "2            -1.024342e+07      5.643134e+06      129667499  \n",
       "3            -1.062673e+07      5.854291e+06      139003892  \n",
       "4            -1.157138e+07      6.374643e+06      150730743  \n",
       "5            -1.135067e+07      6.252683e+06      143587081  \n",
       "6            -1.007166e+07      5.548378e+06      121792972  "
      ]
     },
     "execution_count": 12,
     "metadata": {},
     "output_type": "execute_result"
    }
   ],
   "source": [
    "import datetime as dt\n",
    "#from datetime import datetime as dt\n",
    "df_train['weekday']= df_train.pickup_datetime.dt.weekday\n",
    "df_train_grouped = df_train.groupby(['weekday']).sum()\n",
    "df_train_grouped.head(7)"
   ]
  },
  {
   "cell_type": "markdown",
   "metadata": {
    "id": "jGh5vdplm3P9"
   },
   "source": [
    "Напомню, что мы будем пресказывать переменную trip_duration. Посмотрим на target переменную."
   ]
  },
  {
   "cell_type": "code",
   "execution_count": 13,
   "metadata": {
    "colab": {
     "base_uri": "https://localhost:8080/",
     "height": 284
    },
    "id": "aSL_26dbm053",
    "outputId": "f7e0dabd-58bc-48a8-f97d-0b76393a649a"
   },
   "outputs": [
    {
     "data": {
      "text/plain": [
       "<AxesSubplot:>"
      ]
     },
     "execution_count": 13,
     "metadata": {},
     "output_type": "execute_result"
    },
    {
     "data": {
      "image/png": "[encoded data removed]",
      "text/plain": [
       "<Figure size 432x288 with 1 Axes>"
      ]
     },
     "metadata": {
      "needs_background": "light"
     },
     "output_type": "display_data"
    }
   ],
   "source": [
    "df_train.trip_duration.hist(bins=100, grid=False, )"
   ]
  },
  {
   "cell_type": "markdown",
   "metadata": {
    "id": "56ZsuT-dnhB6"
   },
   "source": [
    "Что то пошло не так. Вероятно, есть очень длинные поездки и короткие. Попробуем взять `log(1 + x)` от длины поездки. Единицу мы прибавляем, чтобы избежать проблем с поездками, которые например мнгновенно завершились. "
   ]
  },
  {
   "cell_type": "code",
   "execution_count": 14,
   "metadata": {
    "colab": {
     "base_uri": "https://localhost:8080/",
     "height": 284
    },
    "id": "zhGXOWYGmjxS",
    "outputId": "9ec2813b-1dd0-4645-968f-82357639dc42"
   },
   "outputs": [
    {
     "data": {
      "text/plain": [
       "<AxesSubplot:>"
      ]
     },
     "execution_count": 14,
     "metadata": {},
     "output_type": "execute_result"
    },
    {
     "data": {
      "image/png": "[encoded data removed]",
      "text/plain": [
       "<Figure size 432x288 with 1 Axes>"
      ]
     },
     "metadata": {
      "needs_background": "light"
     },
     "output_type": "display_data"
    }
   ],
   "source": [
    "import numpy as np\n",
    "np.log1p(df_train.trip_duration).hist(bins=100, grid=False, )"
   ]
  },
  {
   "cell_type": "markdown",
   "metadata": {
    "id": "CITyr98_weNh"
   },
   "source": [
    "Мы получили куда более ясную картину, распределение стало похоже на нормальное. Работать будем теперь с логарифмом. Так линейной регрессии будет куда проще выучить корректную зависимость. А если захотим вернуться к исходным данным, возведем предсказание в экспоненту."
   ]
  },
  {
   "cell_type": "code",
   "execution_count": 15,
   "metadata": {
    "colab": {
     "base_uri": "https://localhost:8080/",
     "height": 247
    },
    "id": "XdDc4PQUnPaI",
    "outputId": "c2c426f1-9a38-47c9-f49f-f46fb9f9ea09"
   },
   "outputs": [
    {
     "name": "stderr",
     "output_type": "stream",
     "text": [
      "<ipython-input-15-05311ce01512>:1: SettingWithCopyWarning: \n",
      "A value is trying to be set on a copy of a slice from a DataFrame.\n",
      "Try using .loc[row_indexer,col_indexer] = value instead\n",
      "\n",
      "See the caveats in the documentation: https://pandas.pydata.org/pandas-docs/stable/user_guide/indexing.html#returning-a-view-versus-a-copy\n",
      "  df_train['log_trip_duration'] = np.log1p(df_train.trip_duration)\n",
      "<ipython-input-15-05311ce01512>:2: SettingWithCopyWarning: \n",
      "A value is trying to be set on a copy of a slice from a DataFrame.\n",
      "Try using .loc[row_indexer,col_indexer] = value instead\n",
      "\n",
      "See the caveats in the documentation: https://pandas.pydata.org/pandas-docs/stable/user_guide/indexing.html#returning-a-view-versus-a-copy\n",
      "  df_test['log_trip_duration'] = np.log1p(df_test.trip_duration)\n"
     ]
    }
   ],
   "source": [
    "df_train['log_trip_duration'] = np.log1p(df_train.trip_duration)\n",
    "df_test['log_trip_duration'] = np.log1p(df_test.trip_duration)"
   ]
  },
  {
   "cell_type": "code",
   "execution_count": 16,
   "metadata": {
    "id": "2nEREh5dsC20"
   },
   "outputs": [],
   "source": [
    "df.pickup_datetime = pd.to_datetime(df.pickup_datetime)"
   ]
  },
  {
   "cell_type": "markdown",
   "metadata": {
    "id": "ELugKcXGoRFT"
   },
   "source": [
    "Посмотрим на наши признаки. Давайте нарисуем, как выглядит распределение количества поездок по дням."
   ]
  },
  {
   "cell_type": "code",
   "execution_count": 17,
   "metadata": {
    "colab": {
     "base_uri": "https://localhost:8080/",
     "height": 383
    },
    "id": "TBjQxEKLoywT",
    "outputId": "2163e4bb-d0b7-4770-b566-c2b61bc9e368"
   },
   "outputs": [
    {
     "data": {
      "image/png": "[encoded data removed]",
      "text/plain": [
       "<Figure size 1800x360 with 1 Axes>"
      ]
     },
     "metadata": {
      "needs_background": "light"
     },
     "output_type": "display_data"
    }
   ],
   "source": [
    "date_sorted = df_train.pickup_datetime.apply(lambda x: x.date()).sort_values()\n",
    "\n",
    "plt.figure(figsize=(25, 5))\n",
    "date_count_plot = sns.countplot(\n",
    "  x=date_sorted,\n",
    ")\n",
    "date_count_plot.set_xticklabels(date_count_plot.get_xticklabels(), rotation=90);"
   ]
  },
  {
   "cell_type": "markdown",
   "metadata": {
    "id": "RjjpG_w7xMwC"
   },
   "source": [
    "Мы можем увидеть паттерны, которые повторяются каждую неделю. Также мы можем наблюдать несколько аномальных провалов в количестве поездок. Посмотрим, как выглядит распределение по часам."
   ]
  },
  {
   "cell_type": "code",
   "execution_count": 18,
   "metadata": {
    "colab": {
     "base_uri": "https://localhost:8080/",
     "height": 299
    },
    "id": "YuwD_kpgqCzX",
    "outputId": "0286c476-9fbf-433c-e95a-9a53b3ad933e"
   },
   "outputs": [
    {
     "name": "stderr",
     "output_type": "stream",
     "text": [
      "C:\\ProgramData\\Anaconda3\\lib\\site-packages\\seaborn\\_decorators.py:36: FutureWarning: Pass the following variable as a keyword arg: x. From version 0.12, the only valid positional argument will be `data`, and passing other arguments without an explicit keyword will result in an error or misinterpretation.\n",
      "  warnings.warn(\n"
     ]
    },
    {
     "data": {
      "text/plain": [
       "<AxesSubplot:xlabel='pickup_datetime', ylabel='count'>"
      ]
     },
     "execution_count": 18,
     "metadata": {},
     "output_type": "execute_result"
    },
    {
     "data": {
      "image/png": "[encoded data removed]",
      "text/plain": [
       "<Figure size 432x288 with 1 Axes>"
      ]
     },
     "metadata": {
      "needs_background": "light"
     },
     "output_type": "display_data"
    }
   ],
   "source": [
    "sns.countplot(\n",
    "  df_train.pickup_datetime.apply(lambda x: x.hour),\n",
    ")"
   ]
  },
  {
   "cell_type": "markdown",
   "metadata": {
    "id": "EHyKa6Jmx1ZV"
   },
   "source": [
    "Теперь давайте посмотрим, как связан день и длина поездки."
   ]
  },
  {
   "cell_type": "code",
   "execution_count": 19,
   "metadata": {
    "colab": {
     "base_uri": "https://localhost:8080/",
     "height": 504
    },
    "id": "0sORx23Ex-nH",
    "outputId": "3fe46fc5-1a48-4cd5-b5cf-2d4f6514eef9"
   },
   "outputs": [
    {
     "data": {
      "image/png": "[encoded data removed]",
      "text/plain": [
       "<Figure size 360x360 with 1 Axes>"
      ]
     },
     "metadata": {
      "needs_background": "light"
     },
     "output_type": "display_data"
    }
   ],
   "source": [
    "group_by_weekday = df_train.groupby(df_train.pickup_datetime.apply(lambda x: x.date()))\n",
    "sns.relplot(data=group_by_weekday.log_trip_duration.aggregate('mean'), kind='line');"
   ]
  },
  {
   "cell_type": "markdown",
   "metadata": {
    "id": "h6Ir1nIN3B_e"
   },
   "source": [
    "Мы видим явный тренд. Более того, наблюдается такая вещь как сезонность: повторяющиеся временные паттерны. В нашем случае период равен неделе."
   ]
  },
  {
   "cell_type": "code",
   "execution_count": null,
   "metadata": {
    "id": "dSA7v9Ht7YLq"
   },
   "outputs": [],
   "source": []
  },
  {
   "cell_type": "markdown",
   "metadata": {
    "id": "NsIqgRCu3EDe"
   },
   "source": [
    "Теперь подготовим датасет. Включим в него день года и час дня. Для этого напишем функцию `create_features`, которая будет собирать нам нужные признаки в отдельный `pandas.DataFrame`. В итоге, мы сможем воспользоваться этой функцией, как для train подвыборки, так и для test."
   ]
  },
  {
   "cell_type": "code",
   "execution_count": 20,
   "metadata": {
    "id": "FRZNQw5jyyZN"
   },
   "outputs": [],
   "source": [
    "import datetime\n",
    "def create_features(data_frame):\n",
    "    X = pd.concat([\n",
    "      data_frame.pickup_datetime.apply(lambda x: x.timetuple().tm_yday),\n",
    "      data_frame.pickup_datetime.apply(lambda x: x.hour),\n",
    "     ], axis=1, keys=['day', 'hour',]\n",
    "  )\n",
    "  \n",
    "    return X, data_frame.log_trip_duration"
   ]
  },
  {
   "cell_type": "code",
   "execution_count": 21,
   "metadata": {
    "id": "ZGbjX11l3zwl"
   },
   "outputs": [],
   "source": [
    "X_train, y_train = create_features(df_train)\n",
    "X_test, y_test = create_features(df_test)"
   ]
  },
  {
   "cell_type": "code",
   "execution_count": 22,
   "metadata": {
    "colab": {
     "base_uri": "https://localhost:8080/",
     "height": 206
    },
    "id": "A7p_3ov-5Wx1",
    "outputId": "60f517b4-f1f2-4bd9-a79a-8a22c56efec4"
   },
   "outputs": [
    {
     "data": {
      "text/html": [
       "<div>\n",
       "<style scoped>\n",
       "    .dataframe tbody tr th:only-of-type {\n",
       "        vertical-align: middle;\n",
       "    }\n",
       "\n",
       "    .dataframe tbody tr th {\n",
       "        vertical-align: top;\n",
       "    }\n",
       "\n",
       "    .dataframe thead th {\n",
       "        text-align: right;\n",
       "    }\n",
       "</style>\n",
       "<table border=\"1\" class=\"dataframe\">\n",
       "  <thead>\n",
       "    <tr style=\"text-align: right;\">\n",
       "      <th></th>\n",
       "      <th>day</th>\n",
       "      <th>hour</th>\n",
       "    </tr>\n",
       "  </thead>\n",
       "  <tbody>\n",
       "    <tr>\n",
       "      <th>96469</th>\n",
       "      <td>1</td>\n",
       "      <td>0</td>\n",
       "    </tr>\n",
       "    <tr>\n",
       "      <th>223872</th>\n",
       "      <td>1</td>\n",
       "      <td>0</td>\n",
       "    </tr>\n",
       "    <tr>\n",
       "      <th>713067</th>\n",
       "      <td>1</td>\n",
       "      <td>0</td>\n",
       "    </tr>\n",
       "    <tr>\n",
       "      <th>652463</th>\n",
       "      <td>1</td>\n",
       "      <td>0</td>\n",
       "    </tr>\n",
       "    <tr>\n",
       "      <th>722901</th>\n",
       "      <td>1</td>\n",
       "      <td>0</td>\n",
       "    </tr>\n",
       "  </tbody>\n",
       "</table>\n",
       "</div>"
      ],
      "text/plain": [
       "        day  hour\n",
       "96469     1     0\n",
       "223872    1     0\n",
       "713067    1     0\n",
       "652463    1     0\n",
       "722901    1     0"
      ]
     },
     "execution_count": 22,
     "metadata": {},
     "output_type": "execute_result"
    }
   ],
   "source": [
    "X_train.head()"
   ]
  },
  {
   "cell_type": "markdown",
   "metadata": {
    "id": "Cc7tOlmM293O"
   },
   "source": [
    "Переменная час, хоть и является целым числом, не может трактоваться как вещественная. Дело в том, что после 23 идет 0, и что будет означать коэффициент регрессии в таком случае, совсем не ясно. Поэтому применим к этой переменной one -hot кодирование. В тоже время, переменная день должна остаться вещественной, так как значения из обучающей выборке не встретятся нам на тестовом подмножестве."
   ]
  },
  {
   "cell_type": "code",
   "execution_count": 24,
   "metadata": {
    "id": "XIZockBO84_e"
   },
   "outputs": [],
   "source": [
    "from sklearn.preprocessing import OneHotEncoder\n",
    "from sklearn.compose import ColumnTransformer "
   ]
  },
  {
   "cell_type": "code",
   "execution_count": 25,
   "metadata": {
    "id": "k6C91eF_9Dk6"
   },
   "outputs": [],
   "source": [
    "#sparse=False - вернутся numpy массивы, [1] - первый индекс\n",
    "ohe = ColumnTransformer([(\"One hot\", OneHotEncoder(sparse=False),[1])], remainder=\"passthrough\")\n",
    "X_train = ohe.fit_transform(X_train)\n",
    "X_test = ohe.transform(X_test)"
   ]
  },
  {
   "cell_type": "code",
   "execution_count": 39,
   "metadata": {
    "id": "t-6JkRQh9TG5"
   },
   "outputs": [
    {
     "data": {
      "text/plain": [
       "25"
      ]
     },
     "execution_count": 39,
     "metadata": {},
     "output_type": "execute_result"
    }
   ],
   "source": [
    "#2 * 5** 2"
   ]
  },
  {
   "cell_type": "markdown",
   "metadata": {
    "id": "LsKBfV5R5bal"
   },
   "source": [
    "Воспользуемся классом `Ridge` и обучим модель."
   ]
  },
  {
   "cell_type": "code",
   "execution_count": 26,
   "metadata": {
    "id": "bveATviV_VYj"
   },
   "outputs": [],
   "source": [
    "from sklearn.linear_model import Ridge\n",
    "from sklearn.metrics import mean_squared_error"
   ]
  },
  {
   "cell_type": "code",
   "execution_count": 27,
   "metadata": {
    "id": "jzFjG0M0F6ji"
   },
   "outputs": [],
   "source": [
    "ridge = Ridge(alpha=1000).fit(X_train, y_train)"
   ]
  },
  {
   "cell_type": "code",
   "execution_count": 28,
   "metadata": {
    "colab": {
     "base_uri": "https://localhost:8080/",
     "height": 36
    },
    "id": "xYEjJt5YGBnh",
    "outputId": "12ef0f00-eb99-4748-b0c6-a8634aafdcde"
   },
   "outputs": [
    {
     "data": {
      "text/plain": [
       "0.6539687819760848"
      ]
     },
     "execution_count": 28,
     "metadata": {},
     "output_type": "execute_result"
    }
   ],
   "source": [
    "mean_squared_error(ridge.predict(X_test), y_test)"
   ]
  },
  {
   "cell_type": "markdown",
   "metadata": {
    "id": "jjtPvTRX5h8w"
   },
   "source": [
    "Давайте попробуем сделать лучше и подберем гиперпараметры модели."
   ]
  },
  {
   "cell_type": "code",
   "execution_count": 29,
   "metadata": {
    "id": "QSftI2qPI8U6"
   },
   "outputs": [],
   "source": [
    "from sklearn.model_selection import GridSearchCV\n",
    "\n",
    "grid_searcher = GridSearchCV(Ridge(),\n",
    "                             param_grid={'alpha': np.linspace(100, 750, 10)},\n",
    "                             cv=5).fit(X_train, y_train)"
   ]
  },
  {
   "cell_type": "code",
   "execution_count": 30,
   "metadata": {
    "colab": {
     "base_uri": "https://localhost:8080/",
     "height": 36
    },
    "id": "wZojalcgKgZh",
    "outputId": "9274597c-3e96-4536-8759-b450ae81ee34"
   },
   "outputs": [
    {
     "data": {
      "text/plain": [
       "0.6538784861219819"
      ]
     },
     "execution_count": 30,
     "metadata": {},
     "output_type": "execute_result"
    }
   ],
   "source": [
    "mean_squared_error(grid_searcher.predict(X_test), y_test)"
   ]
  },
  {
   "cell_type": "code",
   "execution_count": 31,
   "metadata": {
    "colab": {
     "base_uri": "https://localhost:8080/",
     "height": 36
    },
    "id": "rf9m8dQkKmKD",
    "outputId": "cbfbb844-8404-4765-fe76-80a113833615"
   },
   "outputs": [
    {
     "data": {
      "text/plain": [
       "{'alpha': 388.8888888888889}"
      ]
     },
     "execution_count": 31,
     "metadata": {},
     "output_type": "execute_result"
    }
   ],
   "source": [
    "grid_searcher.best_params_"
   ]
  },
  {
   "cell_type": "code",
   "execution_count": null,
   "metadata": {
    "id": "oHKpDCWDxyHz"
   },
   "outputs": [],
   "source": []
  },
  {
   "cell_type": "markdown",
   "metadata": {
    "id": "3FEX2OFZ9kS8"
   },
   "source": [
    "# Задание 1\n",
    "Постройте график соответствующий количеству поездок в зависимости от дня недели по обучающей выборке. Какой из этих графиков соответствует правильному?\n"
   ]
  },
  {
   "cell_type": "code",
   "execution_count": 32,
   "metadata": {},
   "outputs": [
    {
     "data": {
      "text/html": [
       "<div>\n",
       "<style scoped>\n",
       "    .dataframe tbody tr th:only-of-type {\n",
       "        vertical-align: middle;\n",
       "    }\n",
       "\n",
       "    .dataframe tbody tr th {\n",
       "        vertical-align: top;\n",
       "    }\n",
       "\n",
       "    .dataframe thead th {\n",
       "        text-align: right;\n",
       "    }\n",
       "</style>\n",
       "<table border=\"1\" class=\"dataframe\">\n",
       "  <thead>\n",
       "    <tr style=\"text-align: right;\">\n",
       "      <th></th>\n",
       "      <th>vendor_id</th>\n",
       "      <th>passenger_count</th>\n",
       "      <th>pickup_longitude</th>\n",
       "      <th>pickup_latitude</th>\n",
       "      <th>dropoff_longitude</th>\n",
       "      <th>dropoff_latitude</th>\n",
       "      <th>trip_duration</th>\n",
       "    </tr>\n",
       "    <tr>\n",
       "      <th>weekday</th>\n",
       "      <th></th>\n",
       "      <th></th>\n",
       "      <th></th>\n",
       "      <th></th>\n",
       "      <th></th>\n",
       "      <th></th>\n",
       "      <th></th>\n",
       "    </tr>\n",
       "  </thead>\n",
       "  <tbody>\n",
       "    <tr>\n",
       "      <th>0</th>\n",
       "      <td>200496</td>\n",
       "      <td>213177</td>\n",
       "      <td>-9.657811e+06</td>\n",
       "      <td>5.320641e+06</td>\n",
       "      <td>-9.658099e+06</td>\n",
       "      <td>5.320781e+06</td>\n",
       "      <td>115332940</td>\n",
       "    </tr>\n",
       "    <tr>\n",
       "      <th>1</th>\n",
       "      <td>217413</td>\n",
       "      <td>231037</td>\n",
       "      <td>-1.045154e+07</td>\n",
       "      <td>5.757815e+06</td>\n",
       "      <td>-1.045170e+07</td>\n",
       "      <td>5.757921e+06</td>\n",
       "      <td>137059566</td>\n",
       "    </tr>\n",
       "    <tr>\n",
       "      <th>2</th>\n",
       "      <td>212324</td>\n",
       "      <td>226372</td>\n",
       "      <td>-1.024343e+07</td>\n",
       "      <td>5.643035e+06</td>\n",
       "      <td>-1.024342e+07</td>\n",
       "      <td>5.643134e+06</td>\n",
       "      <td>129667499</td>\n",
       "    </tr>\n",
       "    <tr>\n",
       "      <th>3</th>\n",
       "      <td>220487</td>\n",
       "      <td>235775</td>\n",
       "      <td>-1.062679e+07</td>\n",
       "      <td>5.854237e+06</td>\n",
       "      <td>-1.062673e+07</td>\n",
       "      <td>5.854291e+06</td>\n",
       "      <td>139003892</td>\n",
       "    </tr>\n",
       "    <tr>\n",
       "      <th>4</th>\n",
       "      <td>240130</td>\n",
       "      <td>260141</td>\n",
       "      <td>-1.157150e+07</td>\n",
       "      <td>6.374544e+06</td>\n",
       "      <td>-1.157138e+07</td>\n",
       "      <td>6.374643e+06</td>\n",
       "      <td>150730743</td>\n",
       "    </tr>\n",
       "    <tr>\n",
       "      <th>5</th>\n",
       "      <td>235872</td>\n",
       "      <td>266011</td>\n",
       "      <td>-1.135091e+07</td>\n",
       "      <td>6.252533e+06</td>\n",
       "      <td>-1.135067e+07</td>\n",
       "      <td>6.252683e+06</td>\n",
       "      <td>143587081</td>\n",
       "    </tr>\n",
       "    <tr>\n",
       "      <th>6</th>\n",
       "      <td>209776</td>\n",
       "      <td>233690</td>\n",
       "      <td>-1.007178e+07</td>\n",
       "      <td>5.548148e+06</td>\n",
       "      <td>-1.007166e+07</td>\n",
       "      <td>5.548378e+06</td>\n",
       "      <td>121792972</td>\n",
       "    </tr>\n",
       "  </tbody>\n",
       "</table>\n",
       "</div>"
      ],
      "text/plain": [
       "         vendor_id  passenger_count  pickup_longitude  pickup_latitude  \\\n",
       "weekday                                                                  \n",
       "0           200496           213177     -9.657811e+06     5.320641e+06   \n",
       "1           217413           231037     -1.045154e+07     5.757815e+06   \n",
       "2           212324           226372     -1.024343e+07     5.643035e+06   \n",
       "3           220487           235775     -1.062679e+07     5.854237e+06   \n",
       "4           240130           260141     -1.157150e+07     6.374544e+06   \n",
       "5           235872           266011     -1.135091e+07     6.252533e+06   \n",
       "6           209776           233690     -1.007178e+07     5.548148e+06   \n",
       "\n",
       "         dropoff_longitude  dropoff_latitude  trip_duration  \n",
       "weekday                                                      \n",
       "0            -9.658099e+06      5.320781e+06      115332940  \n",
       "1            -1.045170e+07      5.757921e+06      137059566  \n",
       "2            -1.024342e+07      5.643134e+06      129667499  \n",
       "3            -1.062673e+07      5.854291e+06      139003892  \n",
       "4            -1.157138e+07      6.374643e+06      150730743  \n",
       "5            -1.135067e+07      6.252683e+06      143587081  \n",
       "6            -1.007166e+07      5.548378e+06      121792972  "
      ]
     },
     "execution_count": 32,
     "metadata": {},
     "output_type": "execute_result"
    }
   ],
   "source": [
    "df_train_grouped.head(7)"
   ]
  },
  {
   "cell_type": "code",
   "execution_count": 33,
   "metadata": {},
   "outputs": [
    {
     "data": {
      "text/plain": [
       "<AxesSubplot:xlabel='weekday', ylabel='vendor_id'>"
      ]
     },
     "execution_count": 33,
     "metadata": {},
     "output_type": "execute_result"
    },
    {
     "data": {
      "image/png": "[encoded data removed]",
      "text/plain": [
       "<Figure size 432x288 with 1 Axes>"
      ]
     },
     "metadata": {
      "needs_background": "light"
     },
     "output_type": "display_data"
    }
   ],
   "source": [
    "import seaborn as sns\n",
    "sns.barplot(data = df_train_grouped\n",
    "            ,x = df_train_grouped.index\n",
    "            ,y = 'vendor_id'\n",
    "#            ,color = 'cyan' \n",
    "            )\n"
   ]
  },
  {
   "cell_type": "markdown",
   "metadata": {
    "id": "r64ZH4jTD4W1"
   },
   "source": [
    "# Задание 2\n",
    "Добавьте к признакам бинарную переменную, которая равна 1 для двух аномальных дней и 0 во все остальные дни.\n",
    "Для этого вам понадобится модифицировать функцию create_features."
   ]
  },
  {
   "cell_type": "code",
   "execution_count": 34,
   "metadata": {},
   "outputs": [
    {
     "name": "stderr",
     "output_type": "stream",
     "text": [
      "<ipython-input-34-543214e0138e>:2: SettingWithCopyWarning: \n",
      "A value is trying to be set on a copy of a slice from a DataFrame.\n",
      "Try using .loc[row_indexer,col_indexer] = value instead\n",
      "\n",
      "See the caveats in the documentation: https://pandas.pydata.org/pandas-docs/stable/user_guide/indexing.html#returning-a-view-versus-a-copy\n",
      "  df_train['week_outl'] = df_train.weekday.apply(lambda x: '1' if x in outliers else '0')\n"
     ]
    },
    {
     "data": {
      "text/html": [
       "<div>\n",
       "<style scoped>\n",
       "    .dataframe tbody tr th:only-of-type {\n",
       "        vertical-align: middle;\n",
       "    }\n",
       "\n",
       "    .dataframe tbody tr th {\n",
       "        vertical-align: top;\n",
       "    }\n",
       "\n",
       "    .dataframe thead th {\n",
       "        text-align: right;\n",
       "    }\n",
       "</style>\n",
       "<table border=\"1\" class=\"dataframe\">\n",
       "  <thead>\n",
       "    <tr style=\"text-align: right;\">\n",
       "      <th></th>\n",
       "      <th>id</th>\n",
       "      <th>vendor_id</th>\n",
       "      <th>pickup_datetime</th>\n",
       "      <th>passenger_count</th>\n",
       "      <th>pickup_longitude</th>\n",
       "      <th>pickup_latitude</th>\n",
       "      <th>dropoff_longitude</th>\n",
       "      <th>dropoff_latitude</th>\n",
       "      <th>store_and_fwd_flag</th>\n",
       "      <th>trip_duration</th>\n",
       "      <th>weekday</th>\n",
       "      <th>log_trip_duration</th>\n",
       "      <th>week_outl</th>\n",
       "    </tr>\n",
       "  </thead>\n",
       "  <tbody>\n",
       "    <tr>\n",
       "      <th>96469</th>\n",
       "      <td>id0190469</td>\n",
       "      <td>2</td>\n",
       "      <td>2016-01-01 00:00:17</td>\n",
       "      <td>5</td>\n",
       "      <td>-73.981743</td>\n",
       "      <td>40.719158</td>\n",
       "      <td>-73.938828</td>\n",
       "      <td>40.829182</td>\n",
       "      <td>N</td>\n",
       "      <td>849</td>\n",
       "      <td>4</td>\n",
       "      <td>6.745236</td>\n",
       "      <td>1</td>\n",
       "    </tr>\n",
       "    <tr>\n",
       "      <th>223872</th>\n",
       "      <td>id1665586</td>\n",
       "      <td>1</td>\n",
       "      <td>2016-01-01 00:00:53</td>\n",
       "      <td>1</td>\n",
       "      <td>-73.985085</td>\n",
       "      <td>40.747166</td>\n",
       "      <td>-73.958038</td>\n",
       "      <td>40.717491</td>\n",
       "      <td>N</td>\n",
       "      <td>1294</td>\n",
       "      <td>4</td>\n",
       "      <td>7.166266</td>\n",
       "      <td>1</td>\n",
       "    </tr>\n",
       "    <tr>\n",
       "      <th>713067</th>\n",
       "      <td>id1210365</td>\n",
       "      <td>2</td>\n",
       "      <td>2016-01-01 00:01:01</td>\n",
       "      <td>5</td>\n",
       "      <td>-73.965279</td>\n",
       "      <td>40.801041</td>\n",
       "      <td>-73.947479</td>\n",
       "      <td>40.815170</td>\n",
       "      <td>N</td>\n",
       "      <td>408</td>\n",
       "      <td>4</td>\n",
       "      <td>6.013715</td>\n",
       "      <td>1</td>\n",
       "    </tr>\n",
       "    <tr>\n",
       "      <th>652463</th>\n",
       "      <td>id3888279</td>\n",
       "      <td>1</td>\n",
       "      <td>2016-01-01 00:01:14</td>\n",
       "      <td>1</td>\n",
       "      <td>-73.982292</td>\n",
       "      <td>40.751331</td>\n",
       "      <td>-73.991341</td>\n",
       "      <td>40.750340</td>\n",
       "      <td>N</td>\n",
       "      <td>280</td>\n",
       "      <td>4</td>\n",
       "      <td>5.638355</td>\n",
       "      <td>1</td>\n",
       "    </tr>\n",
       "    <tr>\n",
       "      <th>722901</th>\n",
       "      <td>id0924227</td>\n",
       "      <td>1</td>\n",
       "      <td>2016-01-01 00:01:20</td>\n",
       "      <td>1</td>\n",
       "      <td>-73.970108</td>\n",
       "      <td>40.759800</td>\n",
       "      <td>-73.989357</td>\n",
       "      <td>40.742989</td>\n",
       "      <td>N</td>\n",
       "      <td>736</td>\n",
       "      <td>4</td>\n",
       "      <td>6.602588</td>\n",
       "      <td>1</td>\n",
       "    </tr>\n",
       "  </tbody>\n",
       "</table>\n",
       "</div>"
      ],
      "text/plain": [
       "               id  vendor_id     pickup_datetime  passenger_count  \\\n",
       "96469   id0190469          2 2016-01-01 00:00:17                5   \n",
       "223872  id1665586          1 2016-01-01 00:00:53                1   \n",
       "713067  id1210365          2 2016-01-01 00:01:01                5   \n",
       "652463  id3888279          1 2016-01-01 00:01:14                1   \n",
       "722901  id0924227          1 2016-01-01 00:01:20                1   \n",
       "\n",
       "        pickup_longitude  pickup_latitude  dropoff_longitude  \\\n",
       "96469         -73.981743        40.719158         -73.938828   \n",
       "223872        -73.985085        40.747166         -73.958038   \n",
       "713067        -73.965279        40.801041         -73.947479   \n",
       "652463        -73.982292        40.751331         -73.991341   \n",
       "722901        -73.970108        40.759800         -73.989357   \n",
       "\n",
       "        dropoff_latitude store_and_fwd_flag  trip_duration  weekday  \\\n",
       "96469          40.829182                  N            849        4   \n",
       "223872         40.717491                  N           1294        4   \n",
       "713067         40.815170                  N            408        4   \n",
       "652463         40.750340                  N            280        4   \n",
       "722901         40.742989                  N            736        4   \n",
       "\n",
       "        log_trip_duration week_outl  \n",
       "96469            6.745236         1  \n",
       "223872           7.166266         1  \n",
       "713067           6.013715         1  \n",
       "652463           5.638355         1  \n",
       "722901           6.602588         1  "
      ]
     },
     "execution_count": 34,
     "metadata": {},
     "output_type": "execute_result"
    }
   ],
   "source": [
    "outliers=[4,5]\n",
    "df_train['week_outl'] = df_train.weekday.apply(lambda x: '1' if x in outliers else '0')\n",
    "df_train.head()"
   ]
  },
  {
   "cell_type": "code",
   "execution_count": 35,
   "metadata": {
    "id": "xTsEacAIJ3w2"
   },
   "outputs": [],
   "source": [
    "ohe = ColumnTransformer([(\"One hot\", OneHotEncoder(sparse=False),[1])], remainder=\"passthrough\")\n",
    "X_train = ohe.fit_transform(X_train)\n",
    "X_test = ohe.transform(X_test)"
   ]
  },
  {
   "cell_type": "markdown",
   "metadata": {
    "id": "lp4fhXBY_cr5"
   },
   "source": [
    "# Задание 3\n",
    "1. Добавьте день недели в качестве признака для обучения. Удобнее всего - модифицировать функцию create_features.\n",
    "\n",
    "2. Заново проведите one-hot кодирование. Сколько признаков у вас получилось?"
   ]
  },
  {
   "cell_type": "code",
   "execution_count": null,
   "metadata": {
    "id": "wQFyJl0sEFE4"
   },
   "outputs": [],
   "source": []
  },
  {
   "cell_type": "markdown",
   "metadata": {
    "id": "WE8Tn-_3F82I"
   },
   "source": [
    "# Вопрос 4\n",
    "\n",
    "1. Отмасштабируйте единственный вещественный признак.\n",
    "2. Обучите на полученных данных Lasso регрессию, в качества параметра  `alpha` возьмите 2.65e-05.\n",
    "\n",
    "Какое качество в терминах MSE вы получили?\n",
    "\n",
    "Сколько признаков было отобрано? В качестве критерия зануления признака используйте сравнение с $10^{-6}$ (с точностью до 3 знаков после запятой).\n"
   ]
  },
  {
   "cell_type": "code",
   "execution_count": null,
   "metadata": {
    "id": "32w6gqNkIeWX"
   },
   "outputs": [],
   "source": []
  }
 ],
 "metadata": {
  "colab": {
   "collapsed_sections": [],
   "name": "Copy of LinearRegression-Screencast.ipynb",
   "provenance": [],
   "toc_visible": true
  },
  "kernelspec": {
   "display_name": "Python 3",
   "language": "python",
   "name": "python3"
  },
  "language_info": {
   "codemirror_mode": {
    "name": "ipython",
    "version": 3
   },
   "file_extension": ".py",
   "mimetype": "text/x-python",
   "name": "python",
   "nbconvert_exporter": "python",
   "pygments_lexer": "ipython3",
   "version": "3.8.10"
  }
 },
 "nbformat": 4,
 "nbformat_minor": 1
}
